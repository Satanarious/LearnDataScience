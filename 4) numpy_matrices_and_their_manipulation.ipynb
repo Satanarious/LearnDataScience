{
 "cells": [
  {
   "cell_type": "markdown",
   "metadata": {},
   "source": [
    "# Numpy Matrices and their Manipulation"
   ]
  },
  {
   "cell_type": "code",
   "execution_count": 47,
   "metadata": {},
   "outputs": [
    {
     "name": "stdout",
     "output_type": "stream",
     "text": [
      "[[4.9e-324 9.9e-324 1.5e-323]\n",
      " [2.0e-323 2.5e-323 3.0e-323]\n",
      " [3.5e-323 4.0e-323 4.4e-323]]\n",
      "[[0. 0.]\n",
      " [0. 0.]]\n",
      "[[1 1 1]\n",
      " [1 1 1]\n",
      " [1 1 1]]\n",
      "[[1. 0. 0. 0.]\n",
      " [0. 1. 0. 0.]]\n",
      "[[1. 0. 0.]\n",
      " [0. 1. 0.]\n",
      " [0. 0. 1.]]\n"
     ]
    }
   ],
   "source": [
    "# Matrix creation\n",
    "import numpy as np\n",
    "import numpy.matlib as mat\n",
    "\n",
    "matrix1=np.matrix([[1,2,3],[4,5,6],[7,8,9]])\n",
    "print(mat.empty((3,3)))\n",
    "print(mat.zeros((2,2)))\n",
    "print(mat.ones((3,3),dtype=np.int16))\n",
    "print(mat.eye(2,4)) # Returns matrix of any size\n",
    "print(mat.identity(3)) # Always returns a square matrix\n"
   ]
  },
  {
   "cell_type": "code",
   "execution_count": 48,
   "metadata": {},
   "outputs": [
    {
     "name": "stdout",
     "output_type": "stream",
     "text": [
      "Matrix 1:\n",
      "[[0 1 2]\n",
      " [3 4 5]]\n",
      "Matrix 2:\n",
      "[[1 2 3]\n",
      " [4 5 6]]\n",
      "Matrix 1 + Matrix 2:\n",
      "[[ 1  3  5]\n",
      " [ 7  9 11]]\n",
      "Matrix 1 - Matrix 2:\n",
      "[[-1 -1 -1]\n",
      " [-1 -1 -1]]\n",
      "Matrix 1 * Matrix 3:\n",
      "[[13 16]\n",
      " [40 52]]\n",
      "Matrix 1 / Matrix 2:\n",
      "[[0.         0.5        0.66666667]\n",
      " [0.75       0.8        0.83333333]]\n",
      "Matrix 1 * Transpose of Matrix 1:\n",
      "[[ 5 14]\n",
      " [14 50]]\n",
      "Array 1:\n",
      "[[1 2 3]\n",
      " [4 5 6]]\n",
      "Array 2:\n",
      "[[4 5 6]\n",
      " [7 8 9]]\n",
      "Array 3:\n",
      "[[7 8]\n",
      " [1 2]\n",
      " [3 4]]\n",
      "Arr1 * Arr2:\n",
      "[[ 4 10 18]\n",
      " [28 40 54]]\n",
      "Arr1.Arr2:\n",
      "[[18 24]\n",
      " [51 66]]\n"
     ]
    }
   ],
   "source": [
    "# Matrix Operations in Numpy\n",
    "\n",
    "mat1=np.matrix([[0,1,2],[3,4,5]])\n",
    "print(\"Matrix 1:\",mat1,sep=\"\\n\")\n",
    "mat2=np.matrix([[1,2,3],[4,5,6]])\n",
    "mat3=np.matrix([[1,2],[3,4],[5,6]])\n",
    "print(\"Matrix 2:\",mat2,sep=\"\\n\")\n",
    "print(\"Matrix 1 + Matrix 2:\",mat1+mat2,sep=\"\\n\") # Shape must match, np.add(mat1,mat2)\n",
    "print(\"Matrix 1 - Matrix 2:\",mat1-mat2,sep=\"\\n\") # Shape must match, mp.subtract(mat1,mat2)\n",
    "print(\"Matrix 1 * Matrix 3:\",mat1*mat3,sep=\"\\n\") # Number of Col of Arr1 = Number of Row of Arr2, (2,3)*(3,2)=(2,2)\n",
    "print(\"Matrix 1 / Matrix 2:\",mat1/mat2,sep=\"\\n\") # Shape must match, np.divide(mat1,mat2)\n",
    "print(\"Matrix 1 * Transpose of Matrix 1:\",mat1*mat1.T,sep=\"\\n\")\n",
    "\n",
    "arr1=np.array([[1,2,3],[4,5,6]])\n",
    "arr2=np.array([[4,5,6],[7,8,9]])\n",
    "arr3=np.array([[7,8],[1,2],[3,4]])\n",
    "print(\"Array 1:\",arr1,sep=\"\\n\")\n",
    "print(\"Array 2:\",arr2,sep=\"\\n\")\n",
    "print(\"Array 3:\",arr3,sep=\"\\n\")\n",
    "print(\"Arr1 * Arr2:\",np.multiply(arr1,arr2),sep=\"\\n\")  # Normal Multiplication\n",
    "print(\"Arr1.Arr2:\",np.dot(arr1,arr3),sep=\"\\n\") # Matrix dot product\n",
    "\n"
   ]
  },
  {
   "cell_type": "code",
   "execution_count": 55,
   "metadata": {},
   "outputs": [
    {
     "name": "stdout",
     "output_type": "stream",
     "text": [
      "Matrix 1:\n",
      "[[ 1  4]\n",
      " [ 9 16]]\n",
      "Matrix Square Root:\n",
      "[[1. 2.]\n",
      " [3. 4.]]\n",
      "Matrix Sum:  30\n",
      "Matrix Sum Column-wise:\n",
      "[[ 5]\n",
      " [25]]\n",
      "Matrix Sum Row-wise: \n",
      "[[10 20]]\n",
      "[[ 1  4]\n",
      " [ 9 16]]\n",
      "[ 1  4  9 16]\n"
     ]
    }
   ],
   "source": [
    "matt1=np.matrix([[1,4],[9,16]])\n",
    "print(\"Matrix 1:\",matt1,sep=\"\\n\")\n",
    "print(\"Matrix Square Root:\",np.sqrt(matt1),sep=\"\\n\")\n",
    "print(\"Matrix Sum: \",np.sum(matt1))\n",
    "print(\"Matrix Sum Column-wise:\",np.sum(matt1,axis=1),sep=\"\\n\")\n",
    "print(\"Matrix Sum Row-wise: \",np.sum(matt1,axis=0),sep=\"\\n\")\n",
    "matt1.resize(4) # Changes the original matrix\n",
    "print(np.matrix(matt1.reshape(2,2))) # Doesn't change the original matrix\n",
    "print(matt1)"
   ]
  },
  {
   "cell_type": "markdown",
   "metadata": {},
   "source": [
    "Question)\n",
    "Using nested loops:\n",
    "Approach:\n",
    "- Define matrices A and B.\n",
    "- Get the number of rows and columns of the matrices using the len() function.\n",
    "- Initialize matrices C, D, and E with zeros using nested loops or list comprehension.\n",
    "- Use nested loops or list comprehension to perform the element-wise addition, subtraction, and division of matrices.\n",
    "- Print the resulting matrices C, D, and E."
   ]
  },
  {
   "cell_type": "code",
   "execution_count": 50,
   "metadata": {},
   "outputs": [
    {
     "name": "stdout",
     "output_type": "stream",
     "text": [
      "Addition Result in C:\n",
      "[[14, 16, 18], [14, 16, 18]]\n",
      "Subtraction Result in D:\n",
      "[[-6, -6, -6], [-6, -6, -6]]\n",
      "Division Result in E:\n",
      "[[0.4, 0.45454545454545453, 0.5], [0.4, 0.45454545454545453, 0.5]]\n"
     ]
    }
   ],
   "source": [
    "# Write code for the above question here.\n",
    "\n",
    "A=[[1,2,3],[4,5,6]]\n",
    "B=[[7,8,9],[10,11,12]]\n",
    "rows_of_A=len(A)\n",
    "cols_of_A=len(A[0])\n",
    "rows_of_B=len(B)\n",
    "cols_of_B=len(B[0])\n",
    "C=[[0]*cols_of_A]*rows_of_A\n",
    "D=[[0]*cols_of_A]*rows_of_A\n",
    "E=[[0]*cols_of_A]*rows_of_A\n",
    "\n",
    "for i in range(rows_of_A):\n",
    "    for j in range(cols_of_A):\n",
    "        C[i][j]=A[i][j]+B[i][j]\n",
    "        D[i][j]=A[i][j]-B[i][j]\n",
    "        E[i][j]=A[i][j]/B[i][j]\n",
    "print(\"Addition Result in C:\",C,sep=\"\\n\")\n",
    "print(\"Subtraction Result in D:\",D,sep=\"\\n\")\n",
    "print(\"Division Result in E:\",E,sep=\"\\n\")"
   ]
  },
  {
   "cell_type": "code",
   "execution_count": null,
   "metadata": {},
   "outputs": [
    {
     "name": "stdout",
     "output_type": "stream",
     "text": [
      "[[15 21]\n",
      " [39 54]]\n",
      "32\n",
      "[-3  6 -3]\n",
      "[[4]\n",
      " [1]\n",
      " [6]]\n",
      "[[4 1 6]]\n"
     ]
    }
   ],
   "source": [
    "arr1=np.array([[1,2,3],[4,5,6]])\n",
    "arr2=np.array([[4,5],[1,2],[3,4]])\n",
    "print(arr1.dot(arr2))\n",
    "\n",
    "arr3=np.array([1,2,3])\n",
    "arr4=np.array([4,5,6])\n",
    "print(np.dot(arr3,arr4)) # Vector dot product\n",
    "print(np.cross(arr3,arr4)) # Vector cross product\n",
    "\n",
    "arr5 = np.matrix('[4; 1; 6]') # Converts a Nx1 matrix to 1xN else returns the same matrix\n",
    "print(arr5)\n",
    "print(arr5.squeeze())"
   ]
  }
 ],
 "metadata": {
  "kernelspec": {
   "display_name": ".venv",
   "language": "python",
   "name": "python3"
  },
  "language_info": {
   "codemirror_mode": {
    "name": "ipython",
    "version": 3
   },
   "file_extension": ".py",
   "mimetype": "text/x-python",
   "name": "python",
   "nbconvert_exporter": "python",
   "pygments_lexer": "ipython3",
   "version": "3.10.11"
  }
 },
 "nbformat": 4,
 "nbformat_minor": 2
}
