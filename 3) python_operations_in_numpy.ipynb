{
 "cells": [
  {
   "cell_type": "markdown",
   "metadata": {},
   "source": [
    "# Python Operations in Numpy"
   ]
  },
  {
   "cell_type": "code",
   "execution_count": 51,
   "metadata": {},
   "outputs": [
    {
     "name": "stdout",
     "output_type": "stream",
     "text": [
      "[[0.  1.5]\n",
      " [3.  4.5]]\n",
      "(9,)\n",
      "[0 1 2 3 4 5 6 7 8]\n",
      "(3, 3)\n",
      "Array 1:\n",
      "[[0 1 2]\n",
      " [3 4 5]\n",
      " [6 7 8]]\n",
      "(3, 3)\n",
      "Array 3:\n",
      "[[1 2 3]\n",
      " [4 5 6]\n",
      " [7 8 9]]\n"
     ]
    }
   ],
   "source": [
    "import numpy as np\n",
    "arr1=np.arange(9)\n",
    "arr2=np.arange(6,dtype=np.float32,step=1.5)\n",
    "print(arr2.reshape(2,2))\n",
    "print(arr1.shape)\n",
    "print(arr1)\n",
    "arr1=arr1.reshape(3,3)\n",
    "print(arr1.shape)\n",
    "print(\"Array 1:\")\n",
    "print(arr1)\n",
    "\n",
    "arr3=np.array([[1,2,3],[4,5,6],[7,8,9]])\n",
    "print(arr3.shape)\n",
    "print(\"Array 3:\")\n",
    "print(arr3)\n"
   ]
  },
  {
   "cell_type": "code",
   "execution_count": 54,
   "metadata": {},
   "outputs": [
    {
     "name": "stdout",
     "output_type": "stream",
     "text": [
      "Array Addition:\n",
      "[[ 1  3  5]\n",
      " [ 7  9 11]\n",
      " [13 15 17]]\n",
      "Array Subtraction:\n",
      "[[1 1 1]\n",
      " [1 1 1]\n",
      " [1 1 1]]\n",
      "Array Multiplication:\n",
      "[[ 0  2  6]\n",
      " [12 20 30]\n",
      " [42 56 72]]\n",
      "Array Division:\n",
      "[[0.         0.5        0.66666667]\n",
      " [0.75       0.8        0.83333333]\n",
      " [0.85714286 0.875      0.88888889]]\n",
      "Array Power:\n",
      "[[ 0  1  4]\n",
      " [ 9 16 25]\n",
      " [36 49 64]]\n",
      "Array Mod/Remainder:\n",
      "[[0 1 0]\n",
      " [1 0 1]\n",
      " [0 1 0]]\n",
      "Reciprocal of Array 3:\n",
      "[[1 0 0]\n",
      " [0 0 0]\n",
      " [0 0 0]]\n",
      "Array Transpose:\n",
      "[[0 3 6]\n",
      " [1 4 7]\n",
      " [2 5 8]]\n"
     ]
    }
   ],
   "source": [
    "# Array Operations in Numpy\n",
    "\n",
    "print(\"Array Addition:\")\n",
    "print(arr1+arr3) # np.add(arr1,arr3)\n",
    "print(\"Array Subtraction:\")\n",
    "print(arr3-arr1) # np.subtract(arr1,arr3)\n",
    "print(\"Array Multiplication:\")\n",
    "print(arr3*arr1) # np.multiply(arr1,arr3)\n",
    "print(\"Array Division:\")\n",
    "print(arr1/arr3) # np.divide(arr1,arr3)\n",
    "print(\"Array Power:\")\n",
    "print(arr1**2) # np.power(arr1,2)\n",
    "print(\"Array Mod/Remainder:\")\n",
    "print(arr1%2) # np.mod(arr1,2) or np.remainder(arr1,2)\n",
    "print(\"Reciprocal of Array 3:\")\n",
    "print(np.reciprocal(arr3))\n",
    "print(\"Array Transpose:\")\n",
    "print(arr1.T) # np.transpose(arr1)"
   ]
  },
  {
   "cell_type": "code",
   "execution_count": null,
   "metadata": {},
   "outputs": [
    {
     "name": "stdout",
     "output_type": "stream",
     "text": [
      "[[0 1 2]\n",
      " [3 4 5]]\n",
      "[[1 2 3]\n",
      " [4 5 6]]\n",
      "[[ 1  3  5]\n",
      " [ 7  9 11]]\n",
      "[[1 1 1]\n",
      " [1 1 1]]\n",
      "[[13 16]\n",
      " [40 52]]\n",
      "[[0.         0.5        0.66666667]\n",
      " [0.75       0.8        0.83333333]]\n",
      "[[ 5 14]\n",
      " [14 50]]\n"
     ]
    }
   ],
   "source": [
    "# Matrix Operations in Numpy\n",
    "\n",
    "mat1=np.matrix([[0,1,2],[3,4,5]])\n",
    "print(mat1)\n",
    "mat2=np.matrix([[1,2,3],[4,5,6]])\n",
    "mat3=np.matrix([[1,2],[3,4],[5,6]])\n",
    "print(mat2)\n",
    "print(mat1+mat2) # Shape must match\n",
    "print(mat2-mat1) # Shape must match\n",
    "print(mat1*mat3) # Number of Col of Arr1 = Number of Row of Arr2, (2,3)*(3,2)=(2,2)\n",
    "print(mat1/mat2) # Shape must match\n",
    "print(mat1*mat1.T)\n",
    "\n"
   ]
  },
  {
   "cell_type": "code",
   "execution_count": 74,
   "metadata": {},
   "outputs": [
    {
     "name": "stdout",
     "output_type": "stream",
     "text": [
      "[ 1  2  3  4  5  6  7  8  9 10]\n",
      "[ True  True  True  True False False False False False False]\n",
      "[ 6  7  8  9 10 11 12 13 14 15]\n",
      "[-4 -3 -2 -1  0  1  2  3  4  5]\n",
      "[ 5 10 15 20 25 30 35 40 45 50]\n",
      "[0.2 0.4 0.6 0.8 1.  1.2 1.4 1.6 1.8 2. ]\n"
     ]
    }
   ],
   "source": [
    "arr=np.array([1,2,3,4,5,6,7,8,9,10])\n",
    "print(arr)\n",
    "print(arr<5)\n",
    "print(arr+5)\n",
    "print(arr-5)\n",
    "print(arr*5)\n",
    "print(arr/5)\n"
   ]
  },
  {
   "cell_type": "code",
   "execution_count": 80,
   "metadata": {},
   "outputs": [
    {
     "name": "stdout",
     "output_type": "stream",
     "text": [
      "[ 1  2  3  4  5  6  7  8  9 10]\n",
      "Sum =  55\n",
      "[3 7]\n",
      "[4 6]\n",
      "10\n"
     ]
    }
   ],
   "source": [
    "# Function of numpy\n",
    "\n",
    "newArr=np.array([1,2,3,4,5,6,7,8,9,10])\n",
    "print(newArr)\n",
    "print(\"Sum = \",np.sum(newArr))\n",
    "newArr1=np.array([[1,2],[3,4]])\n",
    "print(np.sum(newArr1,axis=1))\n",
    "print(np.sum(newArr1,axis=0))\n",
    "print(np.sum(newArr1))"
   ]
  }
 ],
 "metadata": {
  "kernelspec": {
   "display_name": ".venv",
   "language": "python",
   "name": "python3"
  },
  "language_info": {
   "codemirror_mode": {
    "name": "ipython",
    "version": 3
   },
   "file_extension": ".py",
   "mimetype": "text/x-python",
   "name": "python",
   "nbconvert_exporter": "python",
   "pygments_lexer": "ipython3",
   "version": "3.10.11"
  }
 },
 "nbformat": 4,
 "nbformat_minor": 2
}
