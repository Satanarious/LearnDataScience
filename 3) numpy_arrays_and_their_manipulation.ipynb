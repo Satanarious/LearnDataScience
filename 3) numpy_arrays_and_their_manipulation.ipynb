{
 "cells": [
  {
   "cell_type": "markdown",
   "metadata": {},
   "source": [
    "# Numpy Arrays and their Manipulation\n"
   ]
  },
  {
   "cell_type": "code",
   "execution_count": 7,
   "metadata": {},
   "outputs": [
    {
     "name": "stdout",
     "output_type": "stream",
     "text": [
      "Reshaped Array 2 as 2x2:\n",
      "[[0.  1.5]\n",
      " [3.  4.5]]\n",
      "Array 1's Shape:\n",
      "(9,)\n",
      "Array 1:\n",
      "[1 2 3 4 5 6 7 8 9]\n",
      "Array 1's Shape:\n",
      "(3, 3)\n",
      "Array 1:\n",
      "[[1 2 3]\n",
      " [4 5 6]\n",
      " [7 8 9]]\n",
      "Array 3's Shape:\n",
      "(3, 3)\n",
      "Array 3:\n",
      "[[1 2 3]\n",
      " [4 5 6]\n",
      " [7 8 9]]\n",
      "Array 4:\n",
      "(array([ 1.,  4.,  7., 10.]), np.float64(3.0))\n",
      "Array 5:\n",
      "[1.   3.25 5.5  7.75]\n"
     ]
    }
   ],
   "source": [
    "import numpy as np\n",
    "arr1=np.arange(1,10) # arange(start(inclusive),stop(exclisive),step)\n",
    "arr2=np.arange(6,dtype=np.float32,step=1.5)\n",
    "print(\"Reshaped Array 2 as 2x2:\",arr2.reshape(2,2),sep=\"\\n\")\n",
    "print(\"Array 1's Shape:\",arr1.shape,sep=\"\\n\")\n",
    "print(\"Array 1:\",arr1,sep=\"\\n\")\n",
    "arr1=arr1.reshape(3,3) # Doesn't change the original array\n",
    "arr1.resize(3,3) # Changes the original array\n",
    "print(\"Array 1's Shape:\",arr1.shape,sep=\"\\n\")\n",
    "print(\"Array 1:\",arr1,sep=\"\\n\")\n",
    "arr3=np.array([[1,2,3],[4,5,6],[7,8,9]])\n",
    "print(\"Array 3's Shape:\",arr3.shape,sep=\"\\n\")\n",
    "print(\"Array 3:\",arr3,sep=\"\\n\")\n",
    "# linspace(start(inclusive),stop(inclusive),num,retstep=True(difference btw each element))\n",
    "arr4=np.linspace(1,10,4,retstep=True)\n",
    "print(\"Array 4:\",arr4,sep=\"\\n\")\n",
    "# linspace(start(inclusive),stop(exclusive, if endpoint=False),num(number of elemts in array))\n",
    "arr5=np.linspace(1,10,4,endpoint=False) \n",
    "print(\"Array 5:\",arr5,sep=\"\\n\")\n"
   ]
  },
  {
   "cell_type": "code",
   "execution_count": 8,
   "metadata": {},
   "outputs": [
    {
     "name": "stdout",
     "output_type": "stream",
     "text": [
      "[('Name', '<U16'), ('isEmployed', '?'), ('BoostPercentage', '<f4')]\n"
     ]
    }
   ],
   "source": [
    "# DTypes in Numpy\n",
    "\n",
    "dt=np.dtype([(\"Name\",np.str_,16),(\"isEmployed\",np.bool_),(\"BoostPercentage\",np.float32)])\n",
    "arrNew=np.array([(\"Satyam\",True,100.0),(\"Ravi\",False,200.0),],dtype=dt)\n",
    "print(arrNew.dtype)\n",
    "\n",
    "# ? -> bool\n",
    "# < -> stored by least significant bit\n",
    "# Here string type has a length, while bool and float doesn't"
   ]
  },
  {
   "cell_type": "code",
   "execution_count": 9,
   "metadata": {},
   "outputs": [
    {
     "name": "stdout",
     "output_type": "stream",
     "text": [
      "Array 1:\n",
      "[1. 1. 1. 1. 1.]\n",
      "Multi-Dimensional Array 1:\n",
      "[[10 10 10 10 10]\n",
      " [10 10 10 10 10]\n",
      " [10 10 10 10 10]\n",
      " [10 10 10 10 10]\n",
      " [10 10 10 10 10]]\n",
      "Ones_Like Array:\n",
      "[[1 1 1 1 1]\n",
      " [1 1 1 1 1]\n",
      " [1 1 1 1 1]\n",
      " [1 1 1 1 1]\n",
      " [1 1 1 1 1]]\n",
      "Array 2:\n",
      "[0. 0. 0. 0. 0.]\n",
      "Multi-Dimensional Array 2:\n",
      "[[0 0 0 0 0]\n",
      " [0 0 0 0 0]\n",
      " [0 0 0 0 0]\n",
      " [0 0 0 0 0]\n",
      " [0 0 0 0 0]]\n",
      "Array 3:\n",
      "[1. 1. 1. 1. 1.]\n",
      "Multi-Dimensional Array 3:\n",
      "[[1 1 1 1 1]\n",
      " [1 1 1 1 1]\n",
      " [1 1 1 1 1]\n",
      " [1 1 1 1 1]\n",
      " [1 1 1 1 1]]\n",
      "Empty_Like Array:\n",
      "[[1 1 1 1 1]\n",
      " [1 1 1 1 1]\n",
      " [1 1 1 1 1]\n",
      " [1 1 1 1 1]\n",
      " [1 1 1 1 1]]\n",
      "Identity Array:\n",
      "[[1 0 0]\n",
      " [0 1 0]\n",
      " [0 0 1]]\n",
      "Full_Like Array:\n",
      "[[10 10 10 10 10]\n",
      " [10 10 10 10 10]\n",
      " [10 10 10 10 10]\n",
      " [10 10 10 10 10]\n",
      " [10 10 10 10 10]]\n"
     ]
    }
   ],
   "source": [
    "# Array Creation Methods\n",
    "\n",
    "array1=np.empty(5,dtype=np.float32)\n",
    "print(\"Array 1:\",array1,sep=\"\\n\")\n",
    "multiArr1=np.empty((5,5),dtype=np.int16)\n",
    "print(\"Multi-Dimensional Array 1:\",multiArr1,sep=\"\\n\")\n",
    "print(\"Ones_Like Array:\",np.ones_like(multiArr1),sep=\"\\n\") \n",
    "array2=np.zeros(5,dtype=np.float32)\n",
    "print(\"Array 2:\",array2,sep=\"\\n\")\n",
    "multiArr2=np.zeros((5,5),dtype=np.int16)\n",
    "print(\"Multi-Dimensional Array 2:\",multiArr2,sep=\"\\n\")\n",
    "array3=np.ones(5,dtype=np.float32)\n",
    "print(\"Array 3:\",array3,sep=\"\\n\")\n",
    "multiArr3=np.ones((5,5),dtype=np.int16)\n",
    "print(\"Multi-Dimensional Array 3:\",multiArr3,sep=\"\\n\")\n",
    "print(\"Empty_Like Array:\",np.empty_like(multiArr3),sep=\"\\n\") \n",
    "array4=np.eye(3,dtype=np.int16)\n",
    "print(\"Identity Array:\",array4,sep=\"\\n\")\n",
    "print(\"Full_Like Array:\",np.full_like(multiArr3,10),sep=\"\\n\")"
   ]
  },
  {
   "cell_type": "code",
   "execution_count": 10,
   "metadata": {},
   "outputs": [
    {
     "name": "stdout",
     "output_type": "stream",
     "text": [
      "[ 1  2  3  4  5  6  7  8  9 10]\n",
      "Sum =  55\n",
      "Product =  3628800\n",
      "[3 7]\n",
      "[4 6]\n",
      "10\n",
      "[1 2 3 4]\n",
      "[1 3 2 4]\n",
      "[ 2 12]\n",
      "[3 8]\n",
      "24\n"
     ]
    }
   ],
   "source": [
    "# Function of numpy\n",
    "\n",
    "newArr=np.array([1,2,3,4,5,6,7,8,9,10])\n",
    "print(newArr)\n",
    "print(\"Sum = \",np.sum(newArr))\n",
    "print(\"Product = \",np.prod(newArr))\n",
    "newArr1=np.array([[1,2],[3,4]])\n",
    "print(np.sum(newArr1,axis=1))\n",
    "print(np.sum(newArr1,axis=0))\n",
    "print(np.sum(newArr1))\n",
    "print(newArr1.flatten(\"C\")) # Array is flatted into 1-deminsional array, Row-Major\n",
    "print(newArr1.flatten(\"F\")) # Array is flatted into 1-deminsional array, Column-Major\n",
    "print(np.prod(newArr1,axis=1))\n",
    "print(np.prod(newArr1,axis=0))\n",
    "print(np.prod(newArr1))"
   ]
  },
  {
   "cell_type": "code",
   "execution_count": 11,
   "metadata": {},
   "outputs": [
    {
     "name": "stdout",
     "output_type": "stream",
     "text": [
      "Diagonals:\n",
      "[1 5 9]\n",
      "New Diagonal Array:\n",
      "[[1 0 0]\n",
      " [0 5 0]\n",
      " [0 0 9]]\n",
      "Triangular Array:\n",
      "[[1 0 0 0 0]\n",
      " [1 1 0 0 0]\n",
      " [1 1 1 0 0]\n",
      " [1 1 1 1 0]\n",
      " [1 1 1 1 1]]\n",
      "Triangular Array w/ Offset:\n",
      "[[1 1 0 0 0]\n",
      " [1 1 1 0 0]\n",
      " [1 1 1 1 0]\n",
      " [1 1 1 1 1]\n",
      " [1 1 1 1 1]]\n",
      "Lower Triangular Array:\n",
      "[[1 0]\n",
      " [3 4]]\n",
      "Upper Triangular Array:\n",
      "[[1 2]\n",
      " [0 4]]\n"
     ]
    }
   ],
   "source": [
    "myNewArr1=np.array([[1,2,3],[4,5,6],[7,8,9]])\n",
    "diag=np.diag(myNewArr1)\n",
    "print(\"Diagonals:\",diag,sep=\"\\n\")\n",
    "print(\"New Diagonal Array:\",np.diagflat(diag),sep=\"\\n\")\n",
    "print(\"Triangular Array:\",np.tri(5,5,dtype=np.int16,k=0),sep=\"\\n\")\n",
    "print(\"Triangular Array w/ Offset:\",np.tri(5,5,dtype=np.int16,k=1),sep=\"\\n\")\n",
    "print(\"Lower Triangular Array:\",np.tril(newArr1),sep=\"\\n\")\n",
    "print(\"Upper Triangular Array:\",np.triu(newArr1),sep=\"\\n\")\n"
   ]
  },
  {
   "cell_type": "markdown",
   "metadata": {},
   "source": [
    "## Array Manipulation"
   ]
  },
  {
   "cell_type": "code",
   "execution_count": 12,
   "metadata": {},
   "outputs": [
    {
     "name": "stdout",
     "output_type": "stream",
     "text": [
      "New Array:\n",
      "[[1 2 3]\n",
      " [4 5 6]\n",
      " [7 8 9]]\n",
      "New Array w/ View:\n",
      "[[1 2 3]\n",
      " [4 5 6]\n",
      " [7 8 9]]\n",
      "New Array w/ Copy:\n",
      "[[1 2 3]\n",
      " [4 5 6]\n",
      " [7 8 9]]\n",
      "Check for changes in View:\n",
      "[[1 2 0]\n",
      " [4 5 6]\n",
      " [7 8 9]]\n",
      "Check for changes in Copy:\n",
      "[[1 2 3]\n",
      " [4 5 6]\n",
      " [7 8 9]]\n"
     ]
    }
   ],
   "source": [
    "newArr2=np.array([[1,2,3],[4,5,6],[7,8,9]])\n",
    "print(\"New Array:\",newArr2,sep=\"\\n\")\n",
    "newArr3=newArr2.view()\n",
    "print(\"New Array w/ View:\",newArr3,sep=\"\\n\")\n",
    "newArr4=newArr2.copy()  # np.copy(newArr2)\n",
    "print(\"New Array w/ Copy:\",newArr4,sep=\"\\n\")\n",
    "newArr2[0][2]=0  # Change made in original array\n",
    "print(\"Check for changes in View:\",newArr3,sep=\"\\n\")\n",
    "print(\"Check for changes in Copy:\",newArr4,sep=\"\\n\")"
   ]
  },
  {
   "cell_type": "code",
   "execution_count": 29,
   "metadata": {},
   "outputs": [
    {
     "name": "stdout",
     "output_type": "stream",
     "text": [
      "Array 1: \n",
      "[1 2 3 4 5 6 7 8]\n",
      "Array 2: \n",
      "[ 9 10 11 12 13 14 15 16]\n",
      "[ 1  2  3  4  5  6  7  8  9 10 11 12 13 14 15 16]\n",
      "[ 1  2  3  4  5  6  7  8  9 10 11 12 13 14 15 16]\n",
      "----------------------------\n",
      "Array 3: \n",
      "[[1 2]\n",
      " [3 4]]\n",
      "Array 4: \n",
      "[1 2 3 4 5 6 7 8]\n",
      "[[1 2]\n",
      " [3 4]\n",
      " [5 6]\n",
      " [7 8]]\n",
      "[[1 2 5 6]\n",
      " [3 4 7 8]]\n",
      "[[1 2]\n",
      " [3 4]\n",
      " [5 6]\n",
      " [7 8]]\n",
      "Array 3 columns swapped:\n",
      "[[2 1]\n",
      " [4 3]]\n"
     ]
    }
   ],
   "source": [
    "myArr1=np.array([1,2,3,4,5,6,7,8])\n",
    "myArr2=np.array([9,10,11,12,13,14,15,16])\n",
    "print(\"Array 1: \",myArr1,sep=\"\\n\")\n",
    "print(\"Array 2: \",myArr2,sep=\"\\n\")\n",
    "print(np.append(myArr1,myArr2))\n",
    "print(np.concatenate([myArr1]+[myArr2],axis=0))\n",
    "print(\"----------------------------\")\n",
    "myArr3=np.array([[1,2],[3,4]])\n",
    "myArr4=np.array([[5,6],[7,8]])\n",
    "print(\"Array 3: \",myArr3,sep=\"\\n\")\n",
    "print(\"Array 4: \",myArr1,sep=\"\\n\")\n",
    "print(np.append(myArr3,myArr4,axis=0))\n",
    "print(np.append(myArr3,myArr4,axis=1))\n",
    "print(np.concatenate([myArr3,myArr4]))\n",
    "myArr3[:,[0,1]]=myArr3[:,[1,0]]\n",
    "print(\"Array 3 columns swapped:\",myArr3,sep=\"\\n\")"
   ]
  },
  {
   "cell_type": "code",
   "execution_count": 14,
   "metadata": {},
   "outputs": [
    {
     "name": "stdout",
     "output_type": "stream",
     "text": [
      "(5, 5)\n",
      "(1, 1, 1, 5, 5)\n",
      "[[[[[ 0  1  2  3  4]\n",
      "    [ 5  6  7  8  9]\n",
      "    [10 11 12 13 14]\n",
      "    [15 16 17 18 19]\n",
      "    [20 21 22 23 24]]]]]\n",
      "[[[0. 0. 0. 0.]\n",
      "  [0. 0. 0. 0.]\n",
      "  [0. 0. 0. 0.]]]\n"
     ]
    }
   ],
   "source": [
    "arr_2D = np.arange(5*5).reshape(5, 5)\n",
    "print(arr_2D.shape)\n",
    "arr_5D = arr_2D[np.newaxis,np.newaxis,np.newaxis]\n",
    "print(arr_5D.shape)\n",
    "print(arr_5D)\n",
    "x = np.zeros((3, 4))\n",
    "y = np.expand_dims(x, axis=0)\n",
    "print(y)"
   ]
  },
  {
   "cell_type": "markdown",
   "metadata": {},
   "source": [
    "## Array Operations"
   ]
  },
  {
   "cell_type": "code",
   "execution_count": 15,
   "metadata": {},
   "outputs": [
    {
     "name": "stdout",
     "output_type": "stream",
     "text": [
      "Array 1:\n",
      "[[1 2 3]\n",
      " [4 5 6]\n",
      " [7 8 9]]\n",
      "Array 1:\n",
      "[0.  1.5 3.  4.5]\n",
      "Array Addition:\n",
      "[[ 2  4  6]\n",
      " [ 8 10 12]\n",
      " [14 16 18]]\n",
      "Array Subtraction:\n",
      "[[0 0 0]\n",
      " [0 0 0]\n",
      " [0 0 0]]\n",
      "Array Multiplication:\n",
      "[[ 1  4  9]\n",
      " [16 25 36]\n",
      " [49 64 81]]\n",
      "Array Division:\n",
      "[[1. 1. 1.]\n",
      " [1. 1. 1.]\n",
      " [1. 1. 1.]]\n",
      "Array Power:\n",
      "[[ 1  4  9]\n",
      " [16 25 36]\n",
      " [49 64 81]]\n",
      "Array Mod/Remainder:\n",
      "[[1 0 1]\n",
      " [0 1 0]\n",
      " [1 0 1]]\n",
      "Reciprocal of Array 3:\n",
      "[[1 0 0]\n",
      " [0 0 0]\n",
      " [0 0 0]]\n",
      "Array Transpose:\n",
      "[[1 4 7]\n",
      " [2 5 8]\n",
      " [3 6 9]]\n"
     ]
    }
   ],
   "source": [
    "# Array Operations in Numpy\n",
    "print(\"Array 1:\",arr1,sep=\"\\n\")\n",
    "print(\"Array 1:\",arr2,sep=\"\\n\")\n",
    "print(\"Array Addition:\")\n",
    "print(arr1+arr3) # np.add(arr1,arr3)\n",
    "print(\"Array Subtraction:\")\n",
    "print(arr3-arr1) # np.subtract(arr1,arr3)\n",
    "print(\"Array Multiplication:\")\n",
    "print(arr3*arr1) # np.multiply(arr1,arr3)\n",
    "print(\"Array Division:\")\n",
    "print(arr1/arr3) # np.divide(arr1,arr3)\n",
    "print(\"Array Power:\")\n",
    "print(arr1**2) # np.power(arr1,2)\n",
    "print(\"Array Mod/Remainder:\")\n",
    "print(arr1%2) # np.mod(arr1,2) or np.remainder(arr1,2)\n",
    "print(\"Reciprocal of Array 3:\")\n",
    "print(np.reciprocal(arr3))\n",
    "print(\"Array Transpose:\")\n",
    "print(arr1.T) # np.transpose(arr1)"
   ]
  },
  {
   "cell_type": "code",
   "execution_count": 16,
   "metadata": {},
   "outputs": [
    {
     "name": "stdout",
     "output_type": "stream",
     "text": [
      "[ 1  2  3  4  5  6  7  8  9 10]\n",
      "[ True  True  True  True False False False False False False]\n",
      "[ 6  7  8  9 10 11 12 13 14 15]\n",
      "[-4 -3 -2 -1  0  1  2  3  4  5]\n",
      "[ 5 10 15 20 25 30 35 40 45 50]\n",
      "[0.2 0.4 0.6 0.8 1.  1.2 1.4 1.6 1.8 2. ]\n"
     ]
    }
   ],
   "source": [
    "arr=np.array([1,2,3,4,5,6,7,8,9,10])\n",
    "print(arr)\n",
    "print(arr<5)\n",
    "print(arr+5)\n",
    "print(arr-5)\n",
    "print(arr*5)\n",
    "print(arr/5)"
   ]
  },
  {
   "cell_type": "code",
   "execution_count": 34,
   "metadata": {},
   "outputs": [
    {
     "name": "stdout",
     "output_type": "stream",
     "text": [
      "Hstack and Vstack:\n",
      "[ 1  2  3  4  5  6  7  8  9 10]\n",
      "[['Satyam' '10.0' '10']\n",
      " ['Anurag' '20.0' '10']]\n",
      "Concatenate:\n",
      "[ 1  2  3  4  5  6  7  8  9 10]\n",
      "[['Satyam' '10.0' '10']\n",
      " ['Anurag' '20.0' '10']]\n",
      "Hstack and Vstack:\n",
      "[['1' '2' '3' '4' '5' '6']\n",
      " ['S' 'A' 'T' 'Y' 'A' 'M']]\n",
      "[['Satyam' '10.0' '10']\n",
      " ['Anurag' '20.0' '10']\n",
      " ['Tushar' '9.0' '7']\n",
      " ['Akmal' '10.0' '9']]\n",
      "Concatenate:\n",
      "[['1' '2' '3' '4' '5' '6']\n",
      " ['S' 'A' 'T' 'Y' 'A' 'M']]\n",
      "[['Satyam' '10.0' '10']\n",
      " ['Anurag' '20.0' '10']\n",
      " ['Tushar' '9.0' '7']\n",
      " ['Akmal' '10.0' '9']]\n",
      "Stack:\n",
      "[['Satyam' '10.0' '10']\n",
      " ['Anurag' '20.0' '10']]\n",
      "[['Satyam' 'Anurag']\n",
      " ['10.0' '20.0']\n",
      " ['10' '10']]\n",
      "Dstack:\n",
      "[[['Satyam' 'Anurag']\n",
      "  ['10.0' '20.0']\n",
      "  ['10' '10']]]\n"
     ]
    }
   ],
   "source": [
    "# Hstack, Vstack and Stack\n",
    "\n",
    "marksArray1=np.array([1,2,3,4,5])\n",
    "marksArray2=np.array([6,7,8,9,10])\n",
    "dataArray1=np.array([\"Satyam\",10.0,10])\n",
    "dataArray2=np.array([\"Anurag\",20.0,10])\n",
    "print(\"Hstack and Vstack:\")\n",
    "print(np.hstack([marksArray1,marksArray2])) # Arr1 + Arr2\n",
    "print(np.vstack([dataArray1,dataArray2]))\n",
    "# Arr1\n",
    "#  +\n",
    "# Arr2\n",
    "print(\"Concatenate:\")\n",
    "print(np.concatenate([marksArray1,marksArray2],axis=0)) # Yields the same output as hstack\n",
    "print(np.concatenate([[dataArray1],[dataArray2]],axis=0)) # Yields the same output as vstack\n",
    "view1=np.array([[1,2,3],[\"S\",\"A\",\"T\"]])\n",
    "view2=np.array([[4,5,6],[\"Y\",\"A\",\"M\"]])\n",
    "dataArray3=np.array([[\"Satyam\",10.0,10],[\"Anurag\",20.0,10]])\n",
    "dataArray4=np.array([[\"Tushar\",9.0,7],[\"Akmal\",10.0,9]])\n",
    "print(\"Hstack and Vstack:\")\n",
    "print(np.hstack([view1,view2])) # Arr3 + Arr4\n",
    "print(np.vstack([dataArray3,dataArray4]))\n",
    "#  Arr1\n",
    "#   +\n",
    "#  Arr2\n",
    "print(\"Concatenate:\")\n",
    "print(np.concatenate([view1,view2],axis=1)) # Yields the same output as hstack\n",
    "print(np.concatenate([dataArray3,dataArray4],axis=0)) # Yields the same output as vstack\n",
    "\n",
    "# In stack always a new axis is added\n",
    "print(\"Stack:\")\n",
    "print(np.stack([dataArray1,dataArray2],axis=0))\n",
    "print(np.stack([dataArray1,dataArray2],axis=1))\n",
    "print(\"Dstack:\")\n",
    "print(np.dstack([dataArray1,dataArray2]))"
   ]
  },
  {
   "cell_type": "code",
   "execution_count": 18,
   "metadata": {},
   "outputs": [
    {
     "name": "stdout",
     "output_type": "stream",
     "text": [
      "One dimensional array:\n",
      "[0 1]\n",
      "\n",
      "Two dimensional array:\n",
      "[[ 0  1]\n",
      " [ 2  3]\n",
      " [ 4  5]\n",
      " [ 6  7]\n",
      " [ 8  9]\n",
      " [10 11]]\n",
      "0:0\n",
      "1:1\n",
      "0:2\n",
      "1:3\n",
      "0:4\n",
      "1:5\n",
      "0:6\n",
      "1:7\n",
      "0:8\n",
      "1:9\n",
      "0:10\n",
      "1:11\n"
     ]
    }
   ],
   "source": [
    "num_1d = np.arange(2) \n",
    "print(\"One dimensional array:\") \n",
    "print(num_1d) \n",
    "  \n",
    "num_2d = np.arange(12).reshape(6,2) \n",
    "print(\"\\nTwo dimensional array:\") \n",
    "print(num_2d) \n",
    "\n",
    "for a, b in np.nditer([num_1d, num_2d]): \n",
    "    print(f\"{a}:{b}\")"
   ]
  },
  {
   "cell_type": "code",
   "execution_count": 19,
   "metadata": {},
   "outputs": [
    {
     "name": "stdout",
     "output_type": "stream",
     "text": [
      "[array([[1, 2]]), array([[3, 4]]), array([], shape=(0, 2), dtype=int64), array([], shape=(0, 2), dtype=int64)]\n",
      "[array([1, 2]), array([3, 4]), array([5, 6]), array([7, 8]), array([ 9, 10])]\n",
      "[array([[1],\n",
      "       [3]]), array([[2],\n",
      "       [4]])]\n",
      "[array([1, 2, 3, 4, 5]), array([ 6,  7,  8,  9, 10])]\n",
      "VSplit:\n",
      "[array([[1, 2, 3],\n",
      "       [4, 5, 6]]), array([[ 7,  8,  9],\n",
      "       [10, 11, 12]])]\n",
      "HSplit:\n",
      "[array([[ 1,  2],\n",
      "       [ 5,  6],\n",
      "       [ 9, 10]]), array([[ 3,  4],\n",
      "       [ 7,  8],\n",
      "       [11, 12]])]\n"
     ]
    }
   ],
   "source": [
    "# Splitting an Array\n",
    "\n",
    "arrMy1=np.array([[1,2],[3,4]])\n",
    "print(np.array_split(arrMy1,4))  #Never gives error and provides empty arrays instead\n",
    "arrMy2=np.array([1,2,3,4,5,6,7,8,9,10])\n",
    "print(np.array_split(arrMy2,5))\n",
    "print(np.split(arrMy1,2,axis=1))\n",
    "print(np.split(arrMy2,2,axis=0))\n",
    "\n",
    "print(\"VSplit:\")\n",
    "matrix = np.array([[1, 2, 3],[4, 5, 6],[7, 8, 9],[10, 11, 12]])\n",
    "print(np.vsplit(matrix, 2))\n",
    "print(\"HSplit:\")\n",
    "array = np.array([[1, 2, 3, 4],[5, 6, 7, 8],[9, 10, 11, 12]])\n",
    "print(np.hsplit(array, 2))"
   ]
  },
  {
   "cell_type": "code",
   "execution_count": 20,
   "metadata": {},
   "outputs": [
    {
     "name": "stdout",
     "output_type": "stream",
     "text": [
      "False\n",
      "False\n",
      "False\n",
      "False\n",
      "True\n",
      "[1 2 3 4]\n",
      "[ 0  1  2  3  4  5  6 10]\n",
      "[0 1 2 3 4 5 6]\n"
     ]
    }
   ],
   "source": [
    "# Comparison Operators\n",
    "# Always returns a boolean array\n",
    "\n",
    "from functools import reduce\n",
    "\n",
    "array1=np.array([1,2,3])\n",
    "array2=np.array([1,2,4])\n",
    "equal=array1==array2  # np.array_equal(array1,array2)\n",
    "print(equal.all())  # True if all elements are True, else False\n",
    "greater=array1>array2  # np.greater(arra1,array2)\n",
    "print(greater.all())  # True if all elements are True, else False\n",
    "lesser=array1<array2  # np.less(array1,array2)\n",
    "print(lesser.all())  # True if all elements are True, else False\n",
    "greater_equal=array1>=array2  # np.greater_equal(array1,array2)\n",
    "print(greater_equal.all())  # True if all elements are True, else False\n",
    "lesser_equal=array1<=array2  # np.less_equal(array1,array2)\n",
    "print(lesser_equal.all())  # True if all elements are True, else False\n",
    "\n",
    "# 1-d Array\n",
    "print(np.union1d(array1,array2))\n",
    "array3 = np.array([[1, 2, 3], [4, 5, 6]]) \n",
    "array4 = np.array([0, 5, 10]) \n",
    "print(np.union1d(array3,array4))\n",
    "\n",
    "  \n",
    "# Union of more than two arrays using reduce function\n",
    "array5 = reduce(np.union1d, ([1, 2, 3], [1, 3, 5], \n",
    "                            [2, 4, 6], [0, 0, 0])) \n",
    "print(array5)"
   ]
  },
  {
   "cell_type": "code",
   "execution_count": 21,
   "metadata": {},
   "outputs": [
    {
     "name": "stdout",
     "output_type": "stream",
     "text": [
      "Original Array :\n",
      "[[11 11 12 11]\n",
      " [13 11 12 11]\n",
      " [16 11 12 11]\n",
      " [11 11 12 11]]\n",
      "Unique Elemets:  [11 12 13 16]\n",
      "Unique Rows\n",
      "[[11 11 12 11]\n",
      " [13 11 12 11]\n",
      " [16 11 12 11]]\n",
      "Unique Rows by Column\n",
      "[[11 11 12]\n",
      " [11 13 12]\n",
      " [11 16 12]\n",
      " [11 11 12]]\n",
      "[ 1  5  7  0  6  2  9  0 10]\n",
      "[[[[0. 0. 0. 0.]\n",
      "   [0. 0. 0. 0.]\n",
      "   [0. 0. 0. 0.]]\n",
      "\n",
      "  [[0. 0. 0. 0.]\n",
      "   [0. 0. 0. 0.]\n",
      "   [0. 0. 0. 0.]]]]\n",
      "[[[[0.]\n",
      "   [0.]\n",
      "   [0.]\n",
      "   [0.]]\n",
      "\n",
      "  [[0.]\n",
      "   [0.]\n",
      "   [0.]\n",
      "   [0.]]\n",
      "\n",
      "  [[0.]\n",
      "   [0.]\n",
      "   [0.]\n",
      "   [0.]]]\n",
      "\n",
      "\n",
      " [[[0.]\n",
      "   [0.]\n",
      "   [0.]\n",
      "   [0.]]\n",
      "\n",
      "  [[0.]\n",
      "   [0.]\n",
      "   [0.]\n",
      "   [0.]]\n",
      "\n",
      "  [[0.]\n",
      "   [0.]\n",
      "   [0.]\n",
      "   [0.]]]]\n",
      "[[[[0. 0. 0. 0.]\n",
      "   [0. 0. 0. 0.]\n",
      "   [0. 0. 0. 0.]]]\n",
      "\n",
      "\n",
      " [[[0. 0. 0. 0.]\n",
      "   [0. 0. 0. 0.]\n",
      "   [0. 0. 0. 0.]]]]\n"
     ]
    }
   ],
   "source": [
    "arr2D = np.array([[11, 11, 12, 11],\n",
    "                     [13, 11, 12, 11],\n",
    "                     [16, 11, 12, 11],\n",
    "                     [11, 11, 12, 11]])\n",
    " \n",
    "print('Original Array :' ,\n",
    "      arr2D, sep = '\\n')\n",
    " \n",
    "print(\"Unique Elemets: \",np.unique(arr2D))\n",
    "print(\"Unique Rows\",np.unique(arr2D, axis = 0),sep='\\n')\n",
    "print(\"Unique Rows by Column\",np.unique(arr2D, axis = 1),sep='\\n')\n",
    "\n",
    "# Trim-Zeroes\n",
    "arr1D = np.array((0, 0, 0, 0, 1, 5, 7, 0, 6, 2, 9, 0, 10, 0, 0)) \n",
    "arr1D=np.trim_zeros(arr1D)\n",
    "print(arr1D) \n",
    "\n",
    "thisArr=np.zeros((1,2,3,4))\n",
    "print(thisArr)\n",
    "print(np.moveaxis(thisArr,0,-1))\n",
    "print(np.swapaxes(thisArr,0,1))\n",
    "                        "
   ]
  },
  {
   "cell_type": "markdown",
   "metadata": {},
   "source": [
    "## Array Slicing and Indexing"
   ]
  },
  {
   "cell_type": "code",
   "execution_count": 22,
   "metadata": {},
   "outputs": [
    {
     "name": "stdout",
     "output_type": "stream",
     "text": [
      "[ 1  2  0  4  5  6  7  8  9 10]\n",
      "[5 7]\n",
      "[ 5  6  7  8  9 10]\n",
      "[5 6 7 8 9]\n",
      "[[[ 2  3]\n",
      "  [ 5  6]]\n",
      "\n",
      " [[ 8  9]\n",
      "  [11 12]]]\n",
      "[[ 4  5  6]\n",
      " [10 11 12]]\n",
      "(2, 2, 3)\n",
      "[[ 2  5]\n",
      " [ 8 11]]\n",
      "[[ 2  5]\n",
      " [ 8 11]]\n"
     ]
    }
   ],
   "source": [
    "a=np.array([1,2,3,4,5,6,7,8,9,10])\n",
    "b=a[2:5] # Slicing always retuns a view or shallow copy of the array\n",
    "c=a[0]  # Indexing always returns a copy of the value at that index of the array\n",
    "b[0]=0\n",
    "c=0\n",
    "print(a)\n",
    "\n",
    "# Slicing with start:stop:step\n",
    "print(a[4:8:2])\n",
    "print(a[4:])\n",
    "print(a[4:-1])\n",
    "\n",
    "# Slicing using ellipsis\n",
    "\n",
    "d = np.array([[[1, 2, 3],[4, 5, 6]], \n",
    "            [[7, 8, 9],[10, 11, 12]]]) \n",
    "print(d[::,:4,1:3])\n",
    "print(d[:,1])\n",
    "print(d.shape)\n",
    "# The ellipsis (...) is a shorthand for selecting all preceding dimensions\n",
    "print(d[...,1])\n",
    "print(d[::,::,1])"
   ]
  },
  {
   "cell_type": "code",
   "execution_count": 23,
   "metadata": {},
   "outputs": [
    {
     "name": "stdout",
     "output_type": "stream",
     "text": [
      "[1 3 6]\n",
      "[[1 2]\n",
      " [5 6]]\n",
      "[ 6  7  8  9 10]\n",
      "[[5 6]]\n",
      "[[3 4]\n",
      " [5 6]]\n",
      "[[2]\n",
      " [4]\n",
      " [6]]\n"
     ]
    }
   ],
   "source": [
    "# Advanced Indexing\n",
    "\n",
    "yourArr=np.array([[1,2],[3,4],[5,6]])\n",
    "print(yourArr[[0,1,2],[0,0,1]])\n",
    "print(yourArr[[0,2]])\n",
    "yourArr1=np.array([1,2,3,4,5,6,7,8,9,10])\n",
    "print(yourArr1[yourArr1>5])\n",
    "print(yourArr[yourArr.sum(-1)>7])\n",
    "\n",
    "# Use numpy.compress to select elements based on the condition\n",
    "print(np.compress([0,1,1],yourArr,axis=0))\n",
    "print(np.compress([False,True],yourArr,axis=1))"
   ]
  },
  {
   "cell_type": "code",
   "execution_count": 24,
   "metadata": {},
   "outputs": [
    {
     "name": "stdout",
     "output_type": "stream",
     "text": [
      "[[  2.4   8.7  31.2]\n",
      " [157.2  70.8 292. ]\n",
      " [165.6  95.1 191.2]\n",
      " [ 43.2  33.   39.2]]\n"
     ]
    }
   ],
   "source": [
    "# Calculate Calories for each macronutrient\n",
    "\n",
    "macros = np.array([ \n",
    "  [0.8, 2.9, 3.9], \n",
    "  [52.4, 23.6, 36.5], \n",
    "  [55.2, 31.7, 23.9], \n",
    "  [14.4, 11, 4.9] \n",
    "   ]) \n",
    "  \n",
    "result = np.zeros_like(macros) \n",
    "  \n",
    "cal_per_macro = np.array([3, 3, 8]) \n",
    "  \n",
    "for i in range(macros.shape[0]): \n",
    "    result[i] = macros[i] * cal_per_macro \n",
    "  \n",
    "print(result )"
   ]
  }
 ],
 "metadata": {
  "kernelspec": {
   "display_name": ".venv",
   "language": "python",
   "name": "python3"
  },
  "language_info": {
   "codemirror_mode": {
    "name": "ipython",
    "version": 3
   },
   "file_extension": ".py",
   "mimetype": "text/x-python",
   "name": "python",
   "nbconvert_exporter": "python",
   "pygments_lexer": "ipython3",
   "version": "3.10.11"
  }
 },
 "nbformat": 4,
 "nbformat_minor": 2
}
