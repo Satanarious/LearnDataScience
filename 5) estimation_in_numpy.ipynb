{
 "cells": [
  {
   "cell_type": "markdown",
   "metadata": {},
   "source": [
    "# Estimation in Numpy"
   ]
  },
  {
   "cell_type": "markdown",
   "metadata": {},
   "source": [
    "Variability: It is the import dimension that measures the data variation i.e. whether the data is spread out or tightly clustered. Also known as Dispersion When working on data sets in Machine Learning or Data Science, involves many steps – variance measurement, reduction, and distinguishing random variability from the real one. identifying sources of real variability, making decisions regarding the pre-processing choice or model selection based on it.\n",
    "\n",
    "Terms used in Variability Metrics:\n",
    "- Deviation -> The difference between the actual value and the predicted/mean/selected value.\n",
    "- Variance -> The average of the squared deviations from the mean. It helps determine the spread of the data.\n",
    "- Standard Deviation -> The square root of the variance. It helps determine the spread of the data in units of the data.\n",
    "- Mean Absolute Deviation -> The average of the absolute deviations from the mean.It provides a measure of the typical deviation from the mean.\n",
    "- Median Absolute Deviation -> The median of the absolute deviations from the median. It is a robust measure of variability.\n",
    "- Order Statistics -> Statistics based on the ordered values of a sample. For example, the minimum, maximum, and percentiles are order statistics.\n",
    "- Range -> The difference between the maximum and minimum values in a dataset. It provides a measure of the spread of the data.\n",
    "- Percentile -> Indicates the value below which a given percentage of observations fall.\n",
    "- Inter-quartile Range -> IQR is the range between the first quartile (25th percentile) and the third quartile (75th percentile). It measures the spread of the middle 50% of the data."
   ]
  },
  {
   "cell_type": "code",
   "execution_count": 8,
   "metadata": {},
   "outputs": [
    {
     "name": "stdout",
     "output_type": "stream",
     "text": [
      "Array:  [ 1  2  3  4  5  6  7  8  9 10]\n",
      "Mean:  5.5\n",
      "Deviation:  [-4.5 -3.5 -2.5 -1.5 -0.5  0.5  1.5  2.5  3.5  4.5]\n",
      "Variance:  8.25\n",
      "Standard Deviation using variance:  2.8722813232690143\n",
      "Standard Deviation using method:  2.8722813232690143\n",
      "Mean Absolute Deviation:  2.5\n",
      "Median Absolute Deviation:  2.5\n",
      "Minimum Value:  1\n",
      "Maximum Value:  10\n",
      "25 Percentile:  3.25\n",
      "75 Percentile:  7.75\n",
      "Range:  9\n",
      "Inter-quartile Range:  4.5\n"
     ]
    }
   ],
   "source": [
    "import numpy as np\n",
    "arr=np.array([1,2,3,4,5,6,7,8,9,10])\n",
    "print(\"Array: \",arr)\n",
    "mean=np.mean(arr)\n",
    "print(\"Mean: \",mean)\n",
    "deviation=arr-mean\n",
    "print(\"Deviation: \",deviation)\n",
    "variance=np.var(arr)\n",
    "print(\"Variance: \",variance)\n",
    "std=np.std(arr)\n",
    "print(\"Standard Deviation using variance: \",np.sqrt(variance))\n",
    "print(\"Standard Deviation using method: \",np.std(arr))\n",
    "mad=np.mean(np.abs(deviation))\n",
    "print(\"Mean Absolute Deviation: \",mad)\n",
    "mdad=np.median(np.abs(deviation))\n",
    "print(\"Median Absolute Deviation: \",mdad)\n",
    "min=np.min(arr)\n",
    "print(\"Minimum Value: \",min)\n",
    "max=np.max(arr)\n",
    "print(\"Maximum Value: \",max)\n",
    "print(\"25 Percentile: \",np.percentile(arr,25))\n",
    "print(\"75 Percentile: \",np.percentile(arr,75))\n",
    "range=max-min\n",
    "print(\"Range: \",range)\n",
    "iqr=np.percentile(arr,75)-np.percentile(arr,25)\n",
    "print(\"Inter-quartile Range: \",iqr)\n"
   ]
  }
 ],
 "metadata": {
  "kernelspec": {
   "display_name": ".venv",
   "language": "python",
   "name": "python3"
  },
  "language_info": {
   "codemirror_mode": {
    "name": "ipython",
    "version": 3
   },
   "file_extension": ".py",
   "mimetype": "text/x-python",
   "name": "python",
   "nbconvert_exporter": "python",
   "pygments_lexer": "ipython3",
   "version": "3.10.11"
  }
 },
 "nbformat": 4,
 "nbformat_minor": 2
}
