{
 "cells": [
  {
   "cell_type": "markdown",
   "metadata": {},
   "source": [
    "# Python Operations and Numpy Arrays\n"
   ]
  },
  {
   "cell_type": "code",
   "execution_count": 2,
   "metadata": {},
   "outputs": [
    {
     "name": "stdout",
     "output_type": "stream",
     "text": [
      "Reshaped Array 2 as 2x2:\n",
      "[[0.  1.5]\n",
      " [3.  4.5]]\n",
      "Array 1's Shape:\n",
      "(9,)\n",
      "Array 1:\n",
      "[1 2 3 4 5 6 7 8 9]\n",
      "Array 1's Shape:\n",
      "(3, 3)\n",
      "Array 1:\n",
      "[[1 2 3]\n",
      " [4 5 6]\n",
      " [7 8 9]]\n",
      "Array 3's Shape:\n",
      "(3, 3)\n",
      "Array 3:\n",
      "[[1 2 3]\n",
      " [4 5 6]\n",
      " [7 8 9]]\n",
      "Array 4:\n",
      "(array([ 1.,  4.,  7., 10.]), np.float64(3.0))\n",
      "Array 5:\n",
      "[1.   3.25 5.5  7.75]\n"
     ]
    }
   ],
   "source": [
    "import numpy as np\n",
    "arr1=np.arange(1,10) # arange(start(inclusive),stop(exclisive),step)\n",
    "arr2=np.arange(6,dtype=np.float32,step=1.5)\n",
    "print(\"Reshaped Array 2 as 2x2:\",arr2.reshape(2,2),sep=\"\\n\")\n",
    "print(\"Array 1's Shape:\",arr1.shape,sep=\"\\n\")\n",
    "print(\"Array 1:\",arr1,sep=\"\\n\")\n",
    "arr1=arr1.reshape(3,3)\n",
    "print(\"Array 1's Shape:\",arr1.shape,sep=\"\\n\")\n",
    "print(\"Array 1:\",arr1,sep=\"\\n\")\n",
    "arr3=np.array([[1,2,3],[4,5,6],[7,8,9]])\n",
    "print(\"Array 3's Shape:\",arr3.shape,sep=\"\\n\")\n",
    "print(\"Array 3:\",arr3,sep=\"\\n\")\n",
    "# linspace(start(inclusive),stop(inclusive),num,retstep=True(difference btw each element))\n",
    "arr4=np.linspace(1,10,4,retstep=True)\n",
    "print(\"Array 4:\",arr4,sep=\"\\n\")\n",
    "# linspace(start(inclusive),stop(exclusive, if endpoint=False),num(number of elemts in array))\n",
    "arr5=np.linspace(1,10,4,endpoint=False) \n",
    "print(\"Array 5:\",arr5,sep=\"\\n\")\n"
   ]
  },
  {
   "cell_type": "code",
   "execution_count": 3,
   "metadata": {},
   "outputs": [
    {
     "name": "stdout",
     "output_type": "stream",
     "text": [
      "[('Name', '<U16'), ('isEmployed', '?'), ('BoostPercentage', '<f4')]\n"
     ]
    }
   ],
   "source": [
    "# DTypes in Numpy\n",
    "\n",
    "dt=np.dtype([(\"Name\",np.str_,16),(\"isEmployed\",np.bool_),(\"BoostPercentage\",np.float32)])\n",
    "arrNew=np.array([(\"Satyam\",True,100.0),(\"Ravi\",False,200.0),],dtype=dt)\n",
    "print(arrNew.dtype)\n",
    "\n",
    "# ? -> bool\n",
    "# < -> stored by least significant bit\n",
    "# Here string type has a length, while bool and float doesn't"
   ]
  },
  {
   "cell_type": "code",
   "execution_count": 4,
   "metadata": {},
   "outputs": [
    {
     "name": "stdout",
     "output_type": "stream",
     "text": [
      "Array 1:\n",
      "[4.7986757e+30 3.4756504e-15 4.6017423e+30 2.0198901e-19 1.7749589e+28]\n",
      "Multi-Dimensional Array 1:\n",
      "[[0 0 0 0 0]\n",
      " [0 0 0 0 0]\n",
      " [0 0 0 0 0]\n",
      " [0 0 0 0 0]\n",
      " [0 0 0 0 0]]\n",
      "Ones_Like Array:\n",
      "[[1 1 1 1 1]\n",
      " [1 1 1 1 1]\n",
      " [1 1 1 1 1]\n",
      " [1 1 1 1 1]\n",
      " [1 1 1 1 1]]\n",
      "Array 2:\n",
      "[0. 0. 0. 0. 0.]\n",
      "Multi-Dimensional Array 2:\n",
      "[[0 0 0 0 0]\n",
      " [0 0 0 0 0]\n",
      " [0 0 0 0 0]\n",
      " [0 0 0 0 0]\n",
      " [0 0 0 0 0]]\n",
      "Array 3:\n",
      "[1. 1. 1. 1. 1.]\n",
      "Multi-Dimensional Array 3:\n",
      "[[1 1 1 1 1]\n",
      " [1 1 1 1 1]\n",
      " [1 1 1 1 1]\n",
      " [1 1 1 1 1]\n",
      " [1 1 1 1 1]]\n",
      "Empty_Like Array:\n",
      "[[    0     0     0     0     0]\n",
      " [  256     0  1024     0 17152]\n",
      " [    0 29440    30     0   124]\n",
      " [  106   100   373  3442   124]\n",
      " [  106   416   356   628   673]]\n",
      "Identity Array:\n",
      "[[1 0 0]\n",
      " [0 1 0]\n",
      " [0 0 1]]\n",
      "Full_Like Array:\n",
      "[[10 10 10 10 10]\n",
      " [10 10 10 10 10]\n",
      " [10 10 10 10 10]\n",
      " [10 10 10 10 10]\n",
      " [10 10 10 10 10]]\n"
     ]
    }
   ],
   "source": [
    "# Array Creation Methods\n",
    "\n",
    "array1=np.empty(5,dtype=np.float32)\n",
    "print(\"Array 1:\",array1,sep=\"\\n\")\n",
    "multiArr1=np.empty((5,5),dtype=np.int16)\n",
    "print(\"Multi-Dimensional Array 1:\",multiArr1,sep=\"\\n\")\n",
    "print(\"Ones_Like Array:\",np.ones_like(multiArr1),sep=\"\\n\") \n",
    "array2=np.zeros(5,dtype=np.float32)\n",
    "print(\"Array 2:\",array2,sep=\"\\n\")\n",
    "multiArr2=np.zeros((5,5),dtype=np.int16)\n",
    "print(\"Multi-Dimensional Array 2:\",multiArr2,sep=\"\\n\")\n",
    "array3=np.ones(5,dtype=np.float32)\n",
    "print(\"Array 3:\",array3,sep=\"\\n\")\n",
    "multiArr3=np.ones((5,5),dtype=np.int16)\n",
    "print(\"Multi-Dimensional Array 3:\",multiArr3,sep=\"\\n\")\n",
    "print(\"Empty_Like Array:\",np.empty_like(multiArr3),sep=\"\\n\") \n",
    "array4=np.eye(3,dtype=np.int16)\n",
    "print(\"Identity Array:\",array4,sep=\"\\n\")\n",
    "print(\"Full_Like Array:\",np.full_like(multiArr3,10),sep=\"\\n\")"
   ]
  },
  {
   "cell_type": "code",
   "execution_count": 5,
   "metadata": {},
   "outputs": [
    {
     "name": "stdout",
     "output_type": "stream",
     "text": [
      "Matrix 1:\n",
      "[[0 1 2]\n",
      " [3 4 5]]\n",
      "Matrix 2:\n",
      "[[1 2 3]\n",
      " [4 5 6]]\n",
      "Matrix 1 + Matrix 2:\n",
      "[[ 1  3  5]\n",
      " [ 7  9 11]]\n",
      "Matrix 1 - Matrix 2:\n",
      "[[-1 -1 -1]\n",
      " [-1 -1 -1]]\n",
      "Matrix 1 * Matrix 3:\n",
      "[[13 16]\n",
      " [40 52]]\n",
      "Matrix 1 / Matrix 2:\n",
      "[[0.         0.5        0.66666667]\n",
      " [0.75       0.8        0.83333333]]\n",
      "Matrix 1 * Transpose of Matrix 1:\n",
      "[[ 5 14]\n",
      " [14 50]]\n"
     ]
    }
   ],
   "source": [
    "# Matrix Operations in Numpy\n",
    "\n",
    "mat1=np.matrix([[0,1,2],[3,4,5]])\n",
    "print(\"Matrix 1:\",mat1,sep=\"\\n\")\n",
    "mat2=np.matrix([[1,2,3],[4,5,6]])\n",
    "mat3=np.matrix([[1,2],[3,4],[5,6]])\n",
    "print(\"Matrix 2:\",mat2,sep=\"\\n\")\n",
    "print(\"Matrix 1 + Matrix 2:\",mat1+mat2,sep=\"\\n\") # Shape must match\n",
    "print(\"Matrix 1 - Matrix 2:\",mat1-mat2,sep=\"\\n\") # Shape must match\n",
    "print(\"Matrix 1 * Matrix 3:\",mat1*mat3,sep=\"\\n\") # Number of Col of Arr1 = Number of Row of Arr2, (2,3)*(3,2)=(2,2)\n",
    "print(\"Matrix 1 / Matrix 2:\",mat1/mat2,sep=\"\\n\") # Shape must match\n",
    "print(\"Matrix 1 * Transpose of Matrix 1:\",mat1*mat1.T,sep=\"\\n\")\n",
    "\n"
   ]
  },
  {
   "cell_type": "code",
   "execution_count": 6,
   "metadata": {},
   "outputs": [
    {
     "name": "stdout",
     "output_type": "stream",
     "text": [
      "[ 1  2  3  4  5  6  7  8  9 10]\n",
      "Sum =  55\n",
      "[3 7]\n",
      "[4 6]\n",
      "10\n",
      "[1 2 3 4]\n",
      "[1 3 2 4]\n"
     ]
    }
   ],
   "source": [
    "# Function of numpy\n",
    "\n",
    "newArr=np.array([1,2,3,4,5,6,7,8,9,10])\n",
    "print(newArr)\n",
    "print(\"Sum = \",np.sum(newArr))\n",
    "newArr1=np.array([[1,2],[3,4]])\n",
    "print(np.sum(newArr1,axis=1))\n",
    "print(np.sum(newArr1,axis=0))\n",
    "print(np.sum(newArr1))\n",
    "print(newArr1.flatten(\"C\")) # Array is flatted into 1-deminsional array, Row-Major\n",
    "print(newArr1.flatten(\"F\")) # Array is flatted into 1-deminsional array, Column-Major"
   ]
  },
  {
   "cell_type": "code",
   "execution_count": 7,
   "metadata": {},
   "outputs": [
    {
     "name": "stdout",
     "output_type": "stream",
     "text": [
      "Diagonals:\n",
      "[1 5 9]\n",
      "New Diagonal Array:\n",
      "[[1 0 0]\n",
      " [0 5 0]\n",
      " [0 0 9]]\n",
      "Triangular Array:\n",
      "[[1 0 0 0 0]\n",
      " [1 1 0 0 0]\n",
      " [1 1 1 0 0]\n",
      " [1 1 1 1 0]\n",
      " [1 1 1 1 1]]\n",
      "Triangular Array w/ Offset:\n",
      "[[1 1 0 0 0]\n",
      " [1 1 1 0 0]\n",
      " [1 1 1 1 0]\n",
      " [1 1 1 1 1]\n",
      " [1 1 1 1 1]]\n",
      "Lower Triangular Array:\n",
      "[[1 0]\n",
      " [3 4]]\n",
      "Upper Triangular Array:\n",
      "[[1 2]\n",
      " [0 4]]\n"
     ]
    }
   ],
   "source": [
    "myNewArr1=np.array([[1,2,3],[4,5,6],[7,8,9]])\n",
    "diag=np.diag(myNewArr1)\n",
    "print(\"Diagonals:\",diag,sep=\"\\n\")\n",
    "print(\"New Diagonal Array:\",np.diagflat(diag),sep=\"\\n\")\n",
    "print(\"Triangular Array:\",np.tri(5,5,dtype=np.int16,k=0),sep=\"\\n\")\n",
    "print(\"Triangular Array w/ Offset:\",np.tri(5,5,dtype=np.int16,k=1),sep=\"\\n\")\n",
    "print(\"Lower Triangular Array:\",np.tril(newArr1),sep=\"\\n\")\n",
    "print(\"Upper Triangular Array:\",np.triu(newArr1),sep=\"\\n\")\n"
   ]
  },
  {
   "cell_type": "markdown",
   "metadata": {},
   "source": [
    "## Array Manipulation"
   ]
  },
  {
   "cell_type": "code",
   "execution_count": 8,
   "metadata": {},
   "outputs": [
    {
     "name": "stdout",
     "output_type": "stream",
     "text": [
      "New Array:\n",
      "[[1 2 3]\n",
      " [4 5 6]\n",
      " [7 8 9]]\n",
      "New Array w/ View:\n",
      "[[1 2 3]\n",
      " [4 5 6]\n",
      " [7 8 9]]\n",
      "New Array w/ Copy:\n",
      "[[1 2 3]\n",
      " [4 5 6]\n",
      " [7 8 9]]\n",
      "Check for changes in View:\n",
      "[[1 2 0]\n",
      " [4 5 6]\n",
      " [7 8 9]]\n",
      "Check for changes in Copy:\n",
      "[[1 2 3]\n",
      " [4 5 6]\n",
      " [7 8 9]]\n"
     ]
    }
   ],
   "source": [
    "newArr2=np.array([[1,2,3],[4,5,6],[7,8,9]])\n",
    "print(\"New Array:\",newArr2,sep=\"\\n\")\n",
    "newArr3=newArr2.view()\n",
    "print(\"New Array w/ View:\",newArr3,sep=\"\\n\")\n",
    "newArr4=newArr2.copy()  # np.copy(newArr2)\n",
    "print(\"New Array w/ Copy:\",newArr4,sep=\"\\n\")\n",
    "newArr2[0][2]=0  # Change made in original array\n",
    "print(\"Check for changes in View:\",newArr3,sep=\"\\n\")\n",
    "print(\"Check for changes in Copy:\",newArr4,sep=\"\\n\")"
   ]
  },
  {
   "cell_type": "code",
   "execution_count": null,
   "metadata": {},
   "outputs": [
    {
     "name": "stdout",
     "output_type": "stream",
     "text": [
      "Array 1: \n",
      "[1 2 3 4 5 6 7 8]\n",
      "Array 2: \n",
      "[ 9 10 11 12 13 14 15 16]\n",
      "[ 1  2  3  4  5  6  7  8  9 10 11 12 13 14 15 16]\n",
      "[ 1  2  3  4  5  6  7  8  9 10 11 12 13 14 15 16]\n",
      "----------------------------\n",
      "Array 3: \n",
      "[[1 2]\n",
      " [3 4]]\n",
      "Array 4: \n",
      "[1 2 3 4 5 6 7 8]\n",
      "[[1 2]\n",
      " [3 4]\n",
      " [5 6]\n",
      " [7 8]]\n",
      "[[1 2 5 6]\n",
      " [3 4 7 8]]\n",
      "[[1 2]\n",
      " [3 4]\n",
      " [5 6]\n",
      " [7 8]]\n",
      "Array 3 columns swapped:\n",
      "[[2 1]\n",
      " [4 3]]\n"
     ]
    }
   ],
   "source": [
    "myArr1=np.array([1,2,3,4,5,6,7,8])\n",
    "myArr2=np.array([9,10,11,12,13,14,15,16])\n",
    "print(\"Array 1: \",myArr1,sep=\"\\n\")\n",
    "print(\"Array 2: \",myArr2,sep=\"\\n\")\n",
    "print(np.append(myArr1,myArr2))\n",
    "print(np.concatenate([myArr1]+[myArr2],axis=0))\n",
    "print(\"----------------------------\")\n",
    "myArr3=np.array([[1,2],[3,4]])\n",
    "myArr4=np.array([[5,6],[7,8]])\n",
    "print(\"Array 3: \",myArr3,sep=\"\\n\")\n",
    "print(\"Array 4: \",myArr1,sep=\"\\n\")\n",
    "print(np.append(myArr3,myArr4,axis=0))\n",
    "print(np.append(myArr3,myArr4,axis=1))\n",
    "print(np.concatenate([myArr3,myArr4]))\n",
    "myArr3[:,[0,1]]=myArr3[:,[1,0]]\n",
    "print(\"Array 3 columns swapped:\",myArr3,sep=\"\\n\")"
   ]
  },
  {
   "cell_type": "code",
   "execution_count": 45,
   "metadata": {},
   "outputs": [
    {
     "name": "stdout",
     "output_type": "stream",
     "text": [
      "(5, 5)\n",
      "(1, 1, 1, 5, 5)\n",
      "[[[[[ 0  1  2  3  4]\n",
      "    [ 5  6  7  8  9]\n",
      "    [10 11 12 13 14]\n",
      "    [15 16 17 18 19]\n",
      "    [20 21 22 23 24]]]]]\n",
      "[[[0. 0. 0. 0.]\n",
      "  [0. 0. 0. 0.]\n",
      "  [0. 0. 0. 0.]]]\n"
     ]
    }
   ],
   "source": [
    "arr_2D = np.arange(5*5).reshape(5, 5)\n",
    "print(arr_2D.shape)\n",
    "arr_5D = arr_2D[np.newaxis,np.newaxis,np.newaxis]\n",
    "print(arr_5D.shape)\n",
    "print(arr_5D)\n",
    "x = np.zeros((3, 4))\n",
    "y = np.expand_dims(x, axis=0)\n",
    "print(y)"
   ]
  },
  {
   "cell_type": "markdown",
   "metadata": {},
   "source": [
    "## Array Operations"
   ]
  },
  {
   "cell_type": "code",
   "execution_count": null,
   "metadata": {},
   "outputs": [
    {
     "name": "stdout",
     "output_type": "stream",
     "text": [
      "Array 1:\n",
      "[[1 2 3]\n",
      " [4 5 6]\n",
      " [7 8 9]]\n",
      "Array 1:\n",
      "[0.  1.5 3.  4.5]\n",
      "Array Addition:\n",
      "[[ 2  4  6]\n",
      " [ 8 10 12]\n",
      " [14 16 18]]\n",
      "Array Subtraction:\n",
      "[[0 0 0]\n",
      " [0 0 0]\n",
      " [0 0 0]]\n",
      "Array Multiplication:\n",
      "[[ 1  4  9]\n",
      " [16 25 36]\n",
      " [49 64 81]]\n",
      "Array Division:\n",
      "[[1. 1. 1.]\n",
      " [1. 1. 1.]\n",
      " [1. 1. 1.]]\n",
      "Array Power:\n",
      "[[ 1  4  9]\n",
      " [16 25 36]\n",
      " [49 64 81]]\n",
      "Array Mod/Remainder:\n",
      "[[1 0 1]\n",
      " [0 1 0]\n",
      " [1 0 1]]\n",
      "Reciprocal of Array 3:\n",
      "[[1 0 0]\n",
      " [0 0 0]\n",
      " [0 0 0]]\n",
      "Array Transpose:\n",
      "[[1 4 7]\n",
      " [2 5 8]\n",
      " [3 6 9]]\n"
     ]
    }
   ],
   "source": [
    "# Array Operations in Numpy\n",
    "print(\"Array 1:\",arr1,sep=\"\\n\")\n",
    "print(\"Array 1:\",arr2,sep=\"\\n\")\n",
    "print(\"Array Addition:\")\n",
    "print(arr1+arr3) # np.add(arr1,arr3)\n",
    "print(\"Array Subtraction:\")\n",
    "print(arr3-arr1) # np.subtract(arr1,arr3)\n",
    "print(\"Array Multiplication:\")\n",
    "print(arr3*arr1) # np.multiply(arr1,arr3)\n",
    "print(\"Array Division:\")\n",
    "print(arr1/arr3) # np.divide(arr1,arr3)\n",
    "print(\"Array Power:\")\n",
    "print(arr1**2) # np.power(arr1,2)\n",
    "print(\"Array Mod/Remainder:\")\n",
    "print(arr1%2) # np.mod(arr1,2) or np.remainder(arr1,2)\n",
    "print(\"Reciprocal of Array 3:\")\n",
    "print(np.reciprocal(arr3))\n",
    "print(\"Array Transpose:\")\n",
    "print(arr1.T) # np.transpose(arr1)"
   ]
  },
  {
   "cell_type": "code",
   "execution_count": null,
   "metadata": {},
   "outputs": [
    {
     "name": "stdout",
     "output_type": "stream",
     "text": [
      "[ 1  2  3  4  5  6  7  8  9 10]\n",
      "[ True  True  True  True False False False False False False]\n",
      "[ 6  7  8  9 10 11 12 13 14 15]\n",
      "[-4 -3 -2 -1  0  1  2  3  4  5]\n",
      "[ 5 10 15 20 25 30 35 40 45 50]\n",
      "[0.2 0.4 0.6 0.8 1.  1.2 1.4 1.6 1.8 2. ]\n"
     ]
    }
   ],
   "source": [
    "arr=np.array([1,2,3,4,5,6,7,8,9,10])\n",
    "print(arr)\n",
    "print(arr<5)\n",
    "print(arr+5)\n",
    "print(arr-5)\n",
    "print(arr*5)\n",
    "print(arr/5)"
   ]
  }
 ],
 "metadata": {
  "kernelspec": {
   "display_name": ".venv",
   "language": "python",
   "name": "python3"
  },
  "language_info": {
   "codemirror_mode": {
    "name": "ipython",
    "version": 3
   },
   "file_extension": ".py",
   "mimetype": "text/x-python",
   "name": "python",
   "nbconvert_exporter": "python",
   "pygments_lexer": "ipython3",
   "version": "3.10.11"
  }
 },
 "nbformat": 4,
 "nbformat_minor": 2
}
