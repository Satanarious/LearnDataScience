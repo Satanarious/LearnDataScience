{
 "cells": [
  {
   "cell_type": "markdown",
   "metadata": {},
   "source": [
    "# Python Basics"
   ]
  },
  {
   "cell_type": "code",
   "execution_count": 1,
   "metadata": {},
   "outputs": [
    {
     "name": "stdout",
     "output_type": "stream",
     "text": [
      "0 Hello [1, 2, 3]\n",
      "0Hello[1, 2, 3]\n",
      "0Hello[1, 2, 3]\n",
      "\\\\\n",
      "\\\\0\\\\Hello\n",
      "0Hello\n",
      "1 2 3 "
     ]
    }
   ],
   "source": [
    "a: int = 0  # type hinting\n",
    "\n",
    "\n",
    "def hello_world(a: int, b: str):  # function definition with type hinting\n",
    "    pass\n",
    "\n",
    "\n",
    "b = \"Hello\"\n",
    "c = [1, 2, 3]\n",
    "\n",
    "print(f\"{a} {b} {c}\")  # Formatted string\n",
    "print(\"{0}{1}{2}\".format(a, b, c))  # Formatted string\n",
    "print(\"{}{}{}\".format(a, b, c))  # Formatted string\n",
    "print(r\"\\\\\")  # Raw string\n",
    "print(rf\"\\\\{a}\\\\{b}\")\n",
    "print(f\"{a}{b}\")  # concatenation\n",
    "\n",
    "for a in c:  # in membership operator\n",
    "    print(a, end=\" \")\n",
    "\n",
    "if 1 not in c:\n",
    "    print(\"False\")\n",
    "else:\n",
    "    True\n",
    "# condition?if true then: else then\n",
    "# if true then __ condition __ else __ else then\n",
    "True if 1 in c else False  # Ternary operator\n",
    "\n",
    "result = True if 1 in c else False\n",
    "# math.sqrt(True if 1 in a else False)"
   ]
  },
  {
   "cell_type": "markdown",
   "metadata": {},
   "source": [
    "## Strings"
   ]
  },
  {
   "cell_type": "code",
   "execution_count": 2,
   "metadata": {},
   "outputs": [
    {
     "name": "stdout",
     "output_type": "stream",
     "text": [
      "New String is Ttring\n",
      "Old String is String\n",
      "First Character is S\n",
      "Last Character is g\n",
      "First 3 Characters are Str\n",
      "New String is String is a String is aString\n",
      "Another String is String is a String is a String\n",
      "Your String is SSSSS\n"
     ]
    }
   ],
   "source": [
    "myString:str='String'     # Single quoted string\n",
    "myString=\"String\" # Double quoted string\n",
    "myString='''String''' # Multiline String'\n",
    "\n",
    "# myString[0]=\"t\" # TypeError: 'str' object does not support item assignment\n",
    "\n",
    "# Replacement in String\n",
    "myString=\"T\"+myString[1:]  # Replace first character using slicing\n",
    "print(f\"New String is {myString}\")\n",
    "myString=myString.replace(\"T\",\"S\",1)\n",
    "print(f\"Old String is {myString}\")\n",
    "\n",
    "# Accessing Characters in String\n",
    "print(f\"First Character is {myString[0]}\")\n",
    "print(f\"Last Character is {myString[-1]}\")\n",
    "\n",
    "# Slicing String\n",
    "#  string[start:end], string[start:], string[:end]\n",
    "print(f\"First 3 Characters are {myString[:3]}\") \n",
    "\n",
    "# Concatenation in String\n",
    "newString:str=myString+\" is a String is a\"+myString\n",
    "print(f\"New String is {newString}\")\n",
    "anotherString:str=f\"{myString} is a String is a {myString}\"\n",
    "print(f\"Another String is {anotherString}\")\n",
    "yourString:str=\"S\"*5\n",
    "print(f\"Your String is {yourString}\")\n",
    "\n"
   ]
  },
  {
   "cell_type": "markdown",
   "metadata": {},
   "source": [
    "## Lists\n"
   ]
  },
  {
   "cell_type": "code",
   "execution_count": 3,
   "metadata": {},
   "outputs": [
    {
     "name": "stdout",
     "output_type": "stream",
     "text": [
      "[1, 2, 3]\n",
      "[2, 4, 6, 8, 10, 12, 14, 16, 18, 20, 22, 24, 26, 28, 30, 32, 34, 36, 38, 40, 42, 44, 46, 48, 50, 52, 54, 56, 58, 60, 62, 64, 66, 68, 70, 72, 74, 76, 78, 80, 82, 84, 86, 88, 90, 92, 94, 96, 98, 100]\n",
      "['satyam', 'satyam', 'satyam', 'satyam', 'satyam', 'satyam', 'satyam', 'satyam', 'satyam', 'satyam']\n",
      "[1, 2, 3, 4]\n",
      "[1, 2, 3, 4, [1, 2, 3]]\n",
      "[1, 2, 3, 1, 2, 3]\n",
      "['S', 'a', 't', 'y', 'a', 'm']\n",
      "[1, 2, 3]\n",
      "1 2 3 1 2 3 \n",
      "1 2 3 1 2 3 \n",
      "[3, 3, 2, 2, 1, 1]\n",
      "[1, 1, 2, 2, 3, 3]\n",
      "[3, 3, 2, 2, 1, 1]\n"
     ]
    }
   ],
   "source": [
    "myList:list=[1,2,3]\n",
    "anotherList:list=[number for number in range(1,101) if number % 2 == 0] # List Comprehension\n",
    "print(myList)\n",
    "print(anotherList)\n",
    "yourList:list=[1]*10 # Repeated Elements\n",
    "yourList=[\"satyam\"]*10 # Repeated Elements\n",
    "print(yourList)\n",
    "\n",
    "#Append Opeartion\n",
    "myList.append(4)\n",
    "print(myList)\n",
    "myList.append([1,2,3])\n",
    "print(myList)\n",
    "myList.remove(4)\n",
    "myList.remove([1,2,3])\n",
    "\n",
    "# Extend Operation\n",
    "myList.extend([1,2,3])\n",
    "print(myList)\n",
    "\n",
    "# Type Casting\n",
    "print(list(\"Satyam\"))\n",
    "print(list((1,2,3)))\n",
    "\n",
    "# Iterate through a list\n",
    "for index in range(len(myList)):\n",
    "    print(myList[index],end=\" \")\n",
    "print()\n",
    "for number in myList:\n",
    "    print(number,end=\" \")\n",
    "print()\n",
    "myList.sort(reverse=True)  # Reverse sort a list\n",
    "print(myList) \n",
    "print(sorted(myList,reverse=False)) # Print Sorted List\n",
    "print(myList)  "
   ]
  },
  {
   "cell_type": "markdown",
   "metadata": {},
   "source": [
    "## Tuples\n",
    "Tuples are immutable, ordered collections of objects. Tuples are defined using parentheses and commas."
   ]
  },
  {
   "cell_type": "code",
   "execution_count": 4,
   "metadata": {},
   "outputs": [
    {
     "name": "stdout",
     "output_type": "stream",
     "text": [
      "(4, 5, 6)\n"
     ]
    }
   ],
   "source": [
    "myTuple=(1,2,3)\n",
    "# myTuple[0]=0 # 'tuple' object does not support item assignment\n",
    "anotherTuple=tuple([4,5,6])\n",
    "print(anotherTuple)"
   ]
  },
  {
   "cell_type": "markdown",
   "metadata": {},
   "source": [
    "## Sets\n",
    "Sets are mutable collections of unique elements. They are defined by the curly braces {}."
   ]
  },
  {
   "cell_type": "code",
   "execution_count": 5,
   "metadata": {},
   "outputs": [
    {
     "name": "stdout",
     "output_type": "stream",
     "text": [
      "{1, 2, 3}\n",
      "{3, 4, 5}\n",
      "{1, 3, 4}\n",
      "Union of {1, 3, 4} and {3, 4, 5} is {1, 3, 4, 5}\n",
      "Intersection of {1, 3, 4} and {3, 4, 5} is {3, 4}\n",
      "Difference of {1, 3, 4} and {3, 4, 5} is {1}\n",
      "Symmetric difference of {1, 3, 4} and {3, 4, 5} is {1, 5}\n"
     ]
    }
   ],
   "source": [
    "mySet={1,2,3}\n",
    "myAnotherSet=set([3,4,5,3])\n",
    "print(mySet)\n",
    "print(myAnotherSet)\n",
    "mySet.add(4)\n",
    "mySet.remove(2)\n",
    "print(mySet)\n",
    "print(f\"Union of {mySet} and {myAnotherSet} is {mySet.union(myAnotherSet)}\") # Union of two sets\n",
    "print(f\"Intersection of {mySet} and {myAnotherSet} is {mySet.intersection(myAnotherSet)}\") # Intersection of two sets\n",
    "print(f\"Difference of {mySet} and {myAnotherSet} is {mySet.difference(myAnotherSet)}\") # Difference of two sets\n",
    "print(f\"Symmetric difference of {mySet} and {myAnotherSet} is {mySet.symmetric_difference(myAnotherSet)}\") # Symmetric difference of two sets\n"
   ]
  },
  {
   "cell_type": "markdown",
   "metadata": {},
   "source": [
    "## Dictionary\n",
    "Dictionary is a collection of key-value pairs. It is similar to a list, but the values are not ordered. Dictionaries are mutable, which means that their values can be changed.\n"
   ]
  },
  {
   "cell_type": "code",
   "execution_count": 6,
   "metadata": {},
   "outputs": [
    {
     "name": "stdout",
     "output_type": "stream",
     "text": [
      "satyam\n",
      "anurag\n",
      "tushar\n",
      "dict_items([(1, 'satyam'), (2, 'anurag'), (3, 'tushar')])\n",
      "1:satyam\n",
      "2:anurag\n",
      "3:tushar\n",
      "1:satyam\n",
      "2:anurag\n",
      "3:tushar\n",
      "{1: 'satyam', 2: 'anurag', 3: 'tushar', 4: 'akmal'}\n"
     ]
    }
   ],
   "source": [
    "myDict={1:'satyam',2:'anurag',3:'tushar'}\n",
    "for key in myDict:\n",
    "    print(myDict[key])\n",
    "\n",
    "print(myDict.items())\n",
    "\n",
    "for key,value in myDict.items():\n",
    "    print(f\"{key}:{value}\")\n",
    "\n",
    "for key,value in zip(myDict.keys(),myDict.values()):\n",
    "    print(f\"{key}:{value}\")\n",
    "\n",
    "myDict[4]='akmal'\n",
    "print(myDict)\n",
    "\n",
    "items={\n",
    "    'items':{'item1':{\n",
    "            'name':'nameOfItem1',\n",
    "            'price':100,\n",
    "        },\n",
    "        'item2':{\n",
    "            'name':'nameOfItem1',\n",
    "            'price':100,\n",
    "        },\n",
    "},\n",
    "}\n"
   ]
  }
 ],
 "metadata": {
  "kernelspec": {
   "display_name": ".venv",
   "language": "python",
   "name": "python3"
  },
  "language_info": {
   "codemirror_mode": {
    "name": "ipython",
    "version": 3
   },
   "file_extension": ".py",
   "mimetype": "text/x-python",
   "name": "python",
   "nbconvert_exporter": "python",
   "pygments_lexer": "ipython3",
   "version": "3.10.11"
  }
 },
 "nbformat": 4,
 "nbformat_minor": 2
}
