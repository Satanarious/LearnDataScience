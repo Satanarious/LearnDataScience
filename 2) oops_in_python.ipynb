{
 "cells": [
  {
   "cell_type": "markdown",
   "metadata": {},
   "source": [
    "# OOPS in Python\n"
   ]
  },
  {
   "cell_type": "markdown",
   "metadata": {},
   "source": []
  },
  {
   "cell_type": "code",
   "execution_count": null,
   "metadata": {},
   "outputs": [
    {
     "name": "stdout",
     "output_type": "stream",
     "text": [
      "Male\n",
      "100\n",
      "100000\n",
      "Satyam:50\n",
      "Anurag:110\n",
      "Shweta:100\n",
      "Satyam did Poor on his test.\n"
     ]
    }
   ],
   "source": [
    "\n",
    "class Person():  # Abstraction\n",
    "    def setGender(self, gender):\n",
    "        self.gender=gender\n",
    "\n",
    "class Student(Person):      # Inheritance\n",
    "    def __init__(self, name, age):\n",
    "        self.name=name\n",
    "        self.age=age\n",
    "\n",
    "    def setMarks(self, marks):\n",
    "        self.marks=marks\n",
    "\n",
    "class DataTools:\n",
    "    @staticmethod\n",
    "    def getGrade(marks):\n",
    "            if marks>=90:\n",
    "                return \"A\"\n",
    "            elif marks>=80:\n",
    "                return \"B\"\n",
    "            elif marks>=70:\n",
    "                return \"C\"\n",
    "            elif marks>=60:\n",
    "                return \"D\"\n",
    "            else:\n",
    "                return \"F\"\n",
    "            \n",
    "    def categorizeGrade(grade):\n",
    "        if grade==\"A\":\n",
    "            return \"Excellent\"\n",
    "        elif grade==\"B\":\n",
    "            return \"Good\"\n",
    "        elif grade==\"C\":\n",
    "            return \"Average\"\n",
    "        elif grade==\"D\":\n",
    "            return \"Below Average\"\n",
    "        else:\n",
    "            return \"Poor\"\n",
    "\n",
    "\n",
    "\n",
    "class Teacher(Person): # Data Encapsulation\n",
    "    def __init__(self, name, age):\n",
    "        self.name=name\n",
    "        self.age=age\n",
    "    def setSalary(self, salary):\n",
    "        self.salary=salary\n",
    "\n",
    "\n",
    "\n",
    "satyam=Student('Satyam',25)\n",
    "satyam.setGender('Male')\n",
    "satyam.setMarks(100)\n",
    "anurag=Student('Anurag',26) # Polymorphism\n",
    "anurag.setGender('Male')\n",
    "anurag.setMarks(110)\n",
    "shweta=Teacher('Shweta',35)\n",
    "shweta.setGender('Female')\n",
    "shweta.setSalary(100000)\n",
    "print(satyam.gender)\n",
    "print(satyam.marks)\n",
    "print(shweta.salary)\n",
    "\n",
    "# Problem Statement\n",
    "# 1. Save data for 3 students in a list\n",
    "# 2. Print the marks of all students\n",
    "# 3. Print the gender of all students\n",
    "names=['Satyam','Anurag','Shweta']\n",
    "ages=[25,26,35]\n",
    "marks=[50,110,100]\n",
    "gender=['Male','Male','Female']\n",
    "students=[]\n",
    "for i in range(3):\n",
    "    stud=Student(names[i],ages[i])\n",
    "    stud.setMarks(marks[i])\n",
    "    stud.setGender(gender[i])\n",
    "    students.append(stud)\n",
    "\n",
    "for student in students:\n",
    "    print(f\"{student.name}:{student.marks}\")\n",
    "\n",
    "for i in range(len(students)):\n",
    "    if(students[i].name==\"Satyam\"):\n",
    "        print(f\"Satyam did {DataTools.categorizeGrade(DataTools.getGrade(students[i].marks))} on his test.\")\n",
    "\n",
    "\n",
    "\n",
    "\n"
   ]
  },
  {
   "cell_type": "code",
   "execution_count": 19,
   "metadata": {},
   "outputs": [
    {
     "name": "stdout",
     "output_type": "stream",
     "text": [
      "Satyam\n"
     ]
    }
   ],
   "source": [
    "class Globals:\n",
    "    satyam=\"Satyam\"\n",
    "    \n",
    "\n",
    "print(Globals.satyam)"
   ]
  }
 ],
 "metadata": {
  "kernelspec": {
   "display_name": ".venv",
   "language": "python",
   "name": "python3"
  },
  "language_info": {
   "codemirror_mode": {
    "name": "ipython",
    "version": 3
   },
   "file_extension": ".py",
   "mimetype": "text/x-python",
   "name": "python",
   "nbconvert_exporter": "python",
   "pygments_lexer": "ipython3",
   "version": "3.10.11"
  }
 },
 "nbformat": 4,
 "nbformat_minor": 2
}
