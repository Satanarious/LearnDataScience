{
 "metadata": {
  "language_info": {
   "codemirror_mode": {
    "name": "ipython",
    "version": 3
   },
   "file_extension": ".py",
   "mimetype": "text/x-python",
   "name": "python",
   "nbconvert_exporter": "python",
   "pygments_lexer": "ipython3",
   "version": "3.9.1-final"
  },
  "orig_nbformat": 2,
  "kernelspec": {
   "name": "python391jvsc74a57bd02f1488f4eab00b0bf9e12652819d6658f3a8bed9826260f08c9671364aa1e828",
   "display_name": "Python 3.9.1 64-bit"
  },
  "metadata": {
   "interpreter": {
    "hash": "2f1488f4eab00b0bf9e12652819d6658f3a8bed9826260f08c9671364aa1e828"
   }
  }
 },
 "nbformat": 4,
 "nbformat_minor": 2,
 "cells": [
  {
   "source": [
    "# NumPy\n",
    "\n",
    "*Numerical Python* or *Numpy* is a 3rd-party python library which deals with homogeneous data objects namely arrays. It also provides support for storing,manuipulating,performing high-level mathematical operations for the same in a large amount."
   ],
   "cell_type": "markdown",
   "metadata": {}
  },
  {
   "cell_type": "code",
   "execution_count": 23,
   "metadata": {},
   "outputs": [
    {
     "output_type": "execute_result",
     "data": {
      "text/plain": [
       "'1.19.5'"
      ]
     },
     "metadata": {},
     "execution_count": 23
    }
   ],
   "source": [
    "import numpy as np\n",
    "np.__version__\n",
    "\n",
    "from IPython.core.interactiveshell import InteractiveShell\n",
    "InteractiveShell.ast_node_interactivity = \"all\""
   ]
  },
  {
   "source": [
    "## Create ndArrays from scratch\n",
    "\n",
    "Numpy allows creation of *n-dimentional Arrays* or *ndArrays* with various methods like:\n",
    "- Using `numpy.array()` method with a Python Lists\n",
    "- Using `numpy.zeros()` method to produce an array filled with zeroes, of desired size\n",
    "- Using `numpy.ones()` method to produce an array filled with ones, of desired size\n",
    "- Using `numpy.arange()` method, which is quite similar to the bulit-in range function, but with support for floating-point numbers\n",
    "- Using `numpy.linspace()` method to produce an array of uniformly spaced numbers, of desired size\n",
    "- Using `numpy.full()` method to produce an array with the same value, of desired size\n",
    "- Using `numpy.empty()` method to produce an uninitialized array of desired size with values which already exist at the corresponding memory location(s)\n",
    "- Using `numpy.eye()` method to produce an identity matrix of desired size\n",
    "- Using the `numpy.random` module\n"
   ],
   "cell_type": "markdown",
   "metadata": {}
  },
  {
   "cell_type": "code",
   "execution_count": 24,
   "metadata": {},
   "outputs": [
    {
     "output_type": "execute_result",
     "data": {
      "text/plain": [
       "array([1, 2, 3, 4, 5])"
      ]
     },
     "metadata": {},
     "execution_count": 24
    },
    {
     "output_type": "execute_result",
     "data": {
      "text/plain": [
       "array([1. , 2.2, 3. , 4. , 5. ])"
      ]
     },
     "metadata": {},
     "execution_count": 24
    },
    {
     "output_type": "execute_result",
     "data": {
      "text/plain": [
       "array([1, 2, 3, 4, 5])"
      ]
     },
     "metadata": {},
     "execution_count": 24
    },
    {
     "output_type": "execute_result",
     "data": {
      "text/plain": [
       "array([[1, 2, 3],\n",
       "       [2, 3, 4],\n",
       "       [3, 4, 5]])"
      ]
     },
     "metadata": {},
     "execution_count": 24
    }
   ],
   "source": [
    "np.array([1,2,3,4,5])\n",
    "np.array([1,2.2,3,4,5])\n",
    "# here using dtype=int produces an integer ndarray instead of the default float32\n",
    "np.array([1,2,3,4.4,5],dtype='int32')\n",
    "np.array([range(i,i+3) for i in range(1,4)])"
   ]
  },
  {
   "cell_type": "code",
   "execution_count": 25,
   "metadata": {},
   "outputs": [
    {
     "output_type": "execute_result",
     "data": {
      "text/plain": [
       "array([0, 0, 0, 0, 0, 0, 0, 0, 0, 0])"
      ]
     },
     "metadata": {},
     "execution_count": 25
    }
   ],
   "source": [
    "# Produces an array filled with 0s\n",
    "\n",
    "np.zeros(10,dtype=int)"
   ]
  },
  {
   "cell_type": "code",
   "execution_count": 26,
   "metadata": {},
   "outputs": [
    {
     "output_type": "execute_result",
     "data": {
      "text/plain": [
       "array([[1., 1., 1., 1., 1.],\n",
       "       [1., 1., 1., 1., 1.],\n",
       "       [1., 1., 1., 1., 1.]])"
      ]
     },
     "metadata": {},
     "execution_count": 26
    }
   ],
   "source": [
    "# Produces an array filled with 1s\n",
    "\n",
    "np.ones((3,5))"
   ]
  },
  {
   "cell_type": "code",
   "execution_count": 27,
   "metadata": {},
   "outputs": [
    {
     "output_type": "execute_result",
     "data": {
      "text/plain": [
       "array([ 0,  2,  4,  6,  8, 10, 12, 14, 16, 18])"
      ]
     },
     "metadata": {},
     "execution_count": 27
    }
   ],
   "source": [
    "# Similar to the built-in range function but with support for floating point numbers\n",
    "\n",
    "np.arange(0,20,2)"
   ]
  },
  {
   "cell_type": "code",
   "execution_count": 28,
   "metadata": {},
   "outputs": [
    {
     "output_type": "execute_result",
     "data": {
      "text/plain": [
       "array([0. , 2.5, 5. ])"
      ]
     },
     "metadata": {},
     "execution_count": 28
    }
   ],
   "source": [
    "# Return a uniformly-spaced number array\n",
    "\n",
    "np.linspace(0,5,3)"
   ]
  },
  {
   "cell_type": "code",
   "execution_count": 29,
   "metadata": {},
   "outputs": [
    {
     "output_type": "execute_result",
     "data": {
      "text/plain": [
       "array([[2.5, 2.5, 2.5, 2.5],\n",
       "       [2.5, 2.5, 2.5, 2.5],\n",
       "       [2.5, 2.5, 2.5, 2.5],\n",
       "       [2.5, 2.5, 2.5, 2.5]])"
      ]
     },
     "metadata": {},
     "execution_count": 29
    }
   ],
   "source": [
    "# Fills and returns an array with the same number\n",
    "\n",
    "np.full((4,4),2.5)"
   ]
  },
  {
   "cell_type": "code",
   "execution_count": 30,
   "metadata": {},
   "outputs": [
    {
     "output_type": "execute_result",
     "data": {
      "text/plain": [
       "array([[0.00000000e+000, 0.00000000e+000, 0.00000000e+000,\n",
       "        0.00000000e+000],\n",
       "       [0.00000000e+000, 7.23312106e-321, 7.74528464e-312,\n",
       "        7.74528464e-312]])"
      ]
     },
     "metadata": {},
     "execution_count": 30
    }
   ],
   "source": [
    "# Create an uninitialized array of three integers \n",
    "# The values will be whatever happens to already exist at that \n",
    "# memory location\n",
    "\n",
    "np.empty((2,4))"
   ]
  },
  {
   "cell_type": "code",
   "execution_count": 31,
   "metadata": {},
   "outputs": [
    {
     "output_type": "execute_result",
     "data": {
      "text/plain": [
       "array([[1, 0, 0, 0],\n",
       "       [0, 1, 0, 0],\n",
       "       [0, 0, 1, 0],\n",
       "       [0, 0, 0, 1]])"
      ]
     },
     "metadata": {},
     "execution_count": 31
    }
   ],
   "source": [
    "# Create and identity matrix of given size\n",
    "\n",
    "np.eye(4,dtype=int)"
   ]
  },
  {
   "source": [
    "### The Random module\n"
   ],
   "cell_type": "markdown",
   "metadata": {}
  },
  {
   "cell_type": "code",
   "execution_count": 32,
   "metadata": {},
   "outputs": [
    {
     "output_type": "execute_result",
     "data": {
      "text/plain": [
       "array([[ -3.75776001,  15.40731118, -10.49075681],\n",
       "       [  9.05714552,  18.5610703 ,  10.72979914],\n",
       "       [-14.51119112,   2.91143478,  17.04776071]])"
      ]
     },
     "metadata": {},
     "execution_count": 32
    }
   ],
   "source": [
    "# normally distributed random values \n",
    "# with mean 0 and standard deviation 1\n",
    "\n",
    "np.random.normal(1,10,(3,3))"
   ]
  },
  {
   "cell_type": "code",
   "execution_count": 33,
   "metadata": {},
   "outputs": [
    {
     "output_type": "execute_result",
     "data": {
      "text/plain": [
       "array([[0.47486752, 0.47013219, 0.71607453],\n",
       "       [0.287991  , 0.38346223, 0.74916984],\n",
       "       [0.87845219, 0.10286336, 0.09237389]])"
      ]
     },
     "metadata": {},
     "execution_count": 33
    }
   ],
   "source": [
    "# uniformly distributed \n",
    "# random values between 0 and 1\n",
    "\n",
    "np.random.random((3,3))"
   ]
  },
  {
   "cell_type": "code",
   "execution_count": 34,
   "metadata": {},
   "outputs": [
    {
     "output_type": "execute_result",
     "data": {
      "text/plain": [
       "array([[[9, 1, 6, 8, 8],\n",
       "        [3, 2, 3, 6, 3],\n",
       "        [6, 5, 7, 0, 8],\n",
       "        [4, 6, 5, 8, 2]],\n",
       "\n",
       "       [[3, 9, 7, 5, 3],\n",
       "        [4, 5, 3, 3, 7],\n",
       "        [9, 9, 9, 7, 3],\n",
       "        [2, 3, 9, 7, 7]],\n",
       "\n",
       "       [[5, 1, 2, 2, 8],\n",
       "        [1, 5, 8, 4, 0],\n",
       "        [2, 5, 5, 0, 8],\n",
       "        [1, 1, 0, 3, 8]]])"
      ]
     },
     "metadata": {},
     "execution_count": 34
    }
   ],
   "source": [
    "# Fill an array with random values between the given high and low\n",
    "\n",
    "np.random.randint(0,10,(3,4,5))"
   ]
  },
  {
   "source": [
    "## Array Attributes\n",
    "\n",
    "Some useful array attributes are:<br>\n",
    "\n",
    "1. `.ndim` , returns the count(n) of the dimensions of an ndArray\n",
    "2. `.shape`, returns the dimensions of an array\n",
    "3. `.size`, return the total items in an array\n",
    "4. `.dtype`, return the data type of the elements of an array\n",
    "5. `.itemsize`, return the size of an individual item in an array\n",
    "6. `.nbytes`, returns the total size of an array, including all its elements"
   ],
   "cell_type": "markdown",
   "metadata": {}
  },
  {
   "cell_type": "code",
   "execution_count": 35,
   "metadata": {},
   "outputs": [
    {
     "output_type": "stream",
     "name": "stdout",
     "text": [
      "Array Dimension Count:  3\nArray Shape:  (3, 4, 5)\nArray Size:  60\nArray Data type:  int32\nArray individual item size:  4\nArray Size in bytes:  240\n"
     ]
    }
   ],
   "source": [
    "np.random.seed(0)\n",
    "arr=np.random.randint(0,10,(3,4,5))\n",
    "print(\"Array Dimension Count: \",arr.ndim)\n",
    "print(\"Array Shape: \",arr.shape)\n",
    "print(\"Array Size: \",arr.size)\n",
    "print(\"Array Data type: \",arr.dtype)\n",
    "print(\"Array individual item size: \",arr.itemsize)\n",
    "print(\"Array Size in bytes: \",arr.nbytes)"
   ]
  },
  {
   "source": [
    "## Array Indexing\n",
    " \n",
    " Array indexing in numpy is done in the following ways:\n",
    " - For 1-D arrays, indexing is same as the built-in pyhton list indexing with the index passed between square brackets after the array literal.\n",
    " - For multi-dimensional arrays, indices are passed between square brackets, seperated by commas\n",
    "\n",
    "*Note: Value assignment can be easily done by using the assignment operator, `=`*"
   ],
   "cell_type": "markdown",
   "metadata": {}
  },
  {
   "cell_type": "code",
   "execution_count": 36,
   "metadata": {},
   "outputs": [
    {
     "output_type": "stream",
     "name": "stdout",
     "text": [
      "1-D array:\n [9 2 2 8]\nIndices [1] and [3] -> 2 & 8\n\n2-D array:\n [[4 7 8 3]\n [1 4 6 5]\n [5 7 5 5]\n [4 5 5 9]]\nIndices [1,1] and [3,3] -> 4 & 9\n\n3-D array:\n [[[5 4 8 6]\n  [6 1 2 6]\n  [4 1 6 1]\n  [2 3 5 3]]\n\n [[1 4 3 1]\n  [8 6 1 3]\n  [8 3 3 4]\n  [4 3 4 5]]\n\n [[2 3 2 5]\n  [7 9 3 4]\n  [1 1 7 1]\n  [7 4 4 9]]\n\n [[9 9 3 4]\n  [3 1 9 9]\n  [4 9 3 9]\n  [5 4 1 5]]]\nIndices [1,1,1] and [2,2,2] and [3,3,3] -> 6 & 7 & 5\n"
     ]
    }
   ],
   "source": [
    "arr_1d=np.random.randint(1,10,4)\n",
    "arr_2d=np.random.randint(1,10,(4,4))\n",
    "arr_3d=np.random.randint(1,10,(4,4,4))\n",
    "print(\"1-D array:\\n\",arr_1d)\n",
    "print(\"Indices [1] and [3] ->\",arr_1d[1],\"&\",arr_1d[-1])\n",
    "print(\"\\n2-D array:\\n\",arr_2d)\n",
    "print(\"Indices [1,1] and [3,3] ->\",arr_2d[1,1],\"&\",arr_2d[-1,-1])\n",
    "print(\"\\n3-D array:\\n\",arr_3d)\n",
    "print(\"Indices [1,1,1] and [2,2,2] and [3,3,3] ->\",arr_3d[1,1,1],\"&\",arr_3d[2,2,2],\"&\",arr_3d[-1,-1,-1])"
   ]
  },
  {
   "source": [
    "## Array Slicing\n",
    "\n",
    "Array slicing or accessing sub-arrays in numpy can be done in the following ways:\n",
    "- For 1-D arrays, slicing is similar to that in built-in python lists, using the syntax, `arr[start:stop:step]`\n",
    "- For multi-dimensional arrays, slicing can be done identically as in 1-D array but with the difference of comma-seperated slice for each dimension. > e.g. for an array of ndim as 2,  `arr[start:stop:step,start:stop:step]`\n",
    "\n",
    "*Note: When a parameter of a slice is left empty,numpy slices assert the same behaviour as the python list slices i.e. to use the default value for that field. This is a very common practice, used while accesing a single column in an array.*\n"
   ],
   "cell_type": "markdown",
   "metadata": {}
  },
  {
   "cell_type": "code",
   "execution_count": 37,
   "metadata": {},
   "outputs": [
    {
     "output_type": "stream",
     "name": "stdout",
     "text": [
      "[9 2 2 8]\n1-D array, item 1 to 2 -> [2 2]\n[[4 7 8 3]\n [1 4 6 5]\n [5 7 5 5]\n [4 5 5 9]]\n2-D array, row 2 to 3 and all columns but reversed ->\n [[5 5 7 5]\n [9 5 5 4]]\n2-D array, row 3       -> [4 5 5 9]\n2-D array, row 2       -> [5 7 5 5]\n2-D array, last Column -> [3 5 5 9]\n2-D array, Column 2    -> [8 6 5 5]\n"
     ]
    }
   ],
   "source": [
    "print(arr_1d)\n",
    "print(\"1-D array, item 1 to 2 ->\",arr_1d[1:3])\n",
    "print(arr_2d)\n",
    "print(\"2-D array, row 2 to 3 and all columns but reversed ->\\n\",arr_2d[2:,::-1])\n",
    "print(\"2-D array, row 3       ->\",arr_2d[3])\n",
    "print(\"2-D array, row 2       ->\",arr_2d[2])\n",
    "# Accessing single column with empty slices\n",
    "print(\"2-D array, last Column ->\",arr_2d[:,-1])\n",
    "print(\"2-D array, Column 2    ->\",arr_2d[:,2])"
   ]
  },
  {
   "source": [
    ">*Note: One way in which numpy array slices differ from python list slices is that, instead of returning a copy of the subarray, a numpy array slice returns a view of the subarray. This is intended behaviour, because this allows easy manipulation of subarrays. To avoid this, use the `.copy()` method of numpy arrays to return a copy of the subarray and prevent any further confusion.*"
   ],
   "cell_type": "markdown",
   "metadata": {}
  },
  {
   "cell_type": "code",
   "execution_count": 38,
   "metadata": {},
   "outputs": [
    {
     "output_type": "stream",
     "name": "stdout",
     "text": [
      "Initial array:\n[9 2 2 8]\nModified sub-array causes changes in the original array:\n[10  3  3  8]\nModified copy of sub-array causes no changes in the original array:\n[9 2 2 8]\n"
     ]
    }
   ],
   "source": [
    "print(\"Initial array:\")\n",
    "print(arr_1d)\n",
    "tempArray=arr_1d.copy()\n",
    "subArray=arr_1d[2::-1]\n",
    "subArray+=1\n",
    "print(\"Modified sub-array causes changes in the original array:\")\n",
    "print(arr_1d)\n",
    "arr_1d=tempArray\n",
    "subArray=arr_1d[2::-1].copy()\n",
    "subArray+=1\n",
    "print(\"Modified copy of sub-array causes no changes in the original array:\")\n",
    "print(arr_1d)"
   ]
  },
  {
   "source": [
    "## Array Reshaping\n",
    "Changing the dimensions of an array is termed as reshaping in numpy terminology. This is done using the `.reshape()` method and passing the desired dimensions as an argument in the form of a tuple. A common use case of this is in converting a 1-D array to a 2-D array."
   ],
   "cell_type": "markdown",
   "metadata": {}
  },
  {
   "cell_type": "code",
   "execution_count": 39,
   "metadata": {},
   "outputs": [
    {
     "output_type": "stream",
     "name": "stdout",
     "text": [
      "Column Vector ->\n [[1]\n [2]\n [3]]\nRow Vector -> [[1 2 3]]\n"
     ]
    }
   ],
   "source": [
    "print(\"Column Vector ->\\n\",np.arange(1,4).reshape((3,1)))\n",
    "print(\"Row Vector ->\",np.arange(1,4).reshape((1,3)))"
   ]
  },
  {
   "source": [
    "*Note: Another way to convert 1-D array to 2-D is by using the `numpy.newaxis` keyword and using array slicing*"
   ],
   "cell_type": "markdown",
   "metadata": {}
  },
  {
   "cell_type": "code",
   "execution_count": 40,
   "metadata": {},
   "outputs": [
    {
     "output_type": "stream",
     "name": "stdout",
     "text": [
      "Column Vector ->\n [[1]\n [2]\n [3]]\nRow Vector -> [[1 2 3]]\n"
     ]
    }
   ],
   "source": [
    "print(\"Column Vector ->\\n\",np.arange(1,4)[:,np.newaxis])\n",
    "print(\"Row Vector ->\",np.arange(1,4)[np.newaxis,:])"
   ]
  },
  {
   "source": [
    "## Array Concatenation & Splitting\n",
    "\n",
    "1. Concatenation can be done between numpy arrays with the help of `numpy.concatenate()` method. This method requires a list of arrays to be concatenated and takes an optional argument *axis* to specify the axis of concatenation.\n",
    "\n",
    ">Alternatively, use `numpy.hstack()` or `numpy.vstack()` methods to improve code clarity and obtain horizontally or vertically concatenated arrays, respectively.\n",
    "\n",
    "2. Splitting can be done on an array with the help of `numpy.split()` method. This method requires two arguments namely:\n",
    "- A numpy array `Arr`\n",
    "- A list of split indices or a single integer *N* (to split the array into *N* equal parts)\n",
    "\n",
    " An optional argument *axis* can also be provided to specify the axis to split along\n",
    "\n",
    ">Alternatively, use `numpy.hsplit()` or `numpy.vsplit()` or `numpy.dsplit()` methods to improve code clarity and obtain horizontally or vertically or 3rd-axis split arrays, respectively."
   ],
   "cell_type": "markdown",
   "metadata": {}
  },
  {
   "cell_type": "code",
   "execution_count": 41,
   "metadata": {},
   "outputs": [
    {
     "output_type": "stream",
     "name": "stdout",
     "text": [
      "1-D Array Concatenation ->\n [ 1  2  3  4  5  6  7  8  9 10 11 12]\n2-D Array Concatenation(Row-wise Concatenation) ->\n [[ 1  2  3]\n [ 4  5  6]\n [ 7  8  9]\n [10 11 12]]\n2-D Array Concatenation(Column-wise Concatenation) ->\n [[ 1  2  3  7  8  9]\n [ 4  5  6 10 11 12]]\n2-D Array Concatenation(HStack Concatenation) ->\n [[ 1  2  3  7  8  9]\n [ 4  5  6 10 11 12]]\n"
     ]
    }
   ],
   "source": [
    "a1=np.arange(1,7)\n",
    "a2=np.arange(7,13)\n",
    "a3=np.concatenate((a1,a2))\n",
    "print(\"1-D Array Concatenation ->\\n\",a3)\n",
    "a1=a1.reshape(2,3)\n",
    "a2=a2.reshape(2,3)\n",
    "a4=np.concatenate([a1,a2])\n",
    "print(\"2-D Array Concatenation(Row-wise Concatenation) ->\\n\",a4)\n",
    "print(\"2-D Array Concatenation(Column-wise Concatenation) ->\\n\",np.concatenate([a1,a2],axis=1))\n",
    "# the above statement is similar to the below\n",
    "print(\"2-D Array Concatenation(HStack Concatenation) ->\\n\",np.hstack([a1,a2]))"
   ]
  },
  {
   "cell_type": "code",
   "execution_count": 48,
   "metadata": {},
   "outputs": [
    {
     "output_type": "stream",
     "name": "stdout",
     "text": [
      "Original 1-D array -> [ 1  2  3  4  5  6  7  8  9 10 11 12]\nSplitting in 6 equal parts -> [array([1, 2]), array([3, 4]), array([5, 6]), array([7, 8]), array([ 9, 10]), array([11, 12])]\nSplitting in at indices 5 & 8 -> [array([1, 2, 3, 4, 5]), array([6, 7, 8]), array([ 9, 10, 11, 12])]\n\nOriginal 2-D array ->\n [[ 1  2  3]\n [ 4  5  6]\n [ 7  8  9]\n [10 11 12]]\nSplitting in 4 equal parts(Row-wise) ->\n"
     ]
    },
    {
     "output_type": "execute_result",
     "data": {
      "text/plain": [
       "[array([[1, 2, 3]]),\n",
       " array([[4, 5, 6]]),\n",
       " array([[7, 8, 9]]),\n",
       " array([[10, 11, 12]])]"
      ]
     },
     "metadata": {},
     "execution_count": 48
    },
    {
     "output_type": "stream",
     "name": "stdout",
     "text": [
      "Splitting in at indices 1,3(Row-wise) ->\n"
     ]
    },
    {
     "output_type": "execute_result",
     "data": {
      "text/plain": [
       "[array([[1, 2, 3]]),\n",
       " array([[4, 5, 6],\n",
       "        [7, 8, 9]]),\n",
       " array([[10, 11, 12]])]"
      ]
     },
     "metadata": {},
     "execution_count": 48
    },
    {
     "output_type": "stream",
     "name": "stdout",
     "text": [
      "Splitting in 3 equal parts(Column-wise) ->\n"
     ]
    },
    {
     "output_type": "execute_result",
     "data": {
      "text/plain": [
       "[array([[ 1],\n",
       "        [ 4],\n",
       "        [ 7],\n",
       "        [10]]),\n",
       " array([[ 2],\n",
       "        [ 5],\n",
       "        [ 8],\n",
       "        [11]]),\n",
       " array([[ 3],\n",
       "        [ 6],\n",
       "        [ 9],\n",
       "        [12]])]"
      ]
     },
     "metadata": {},
     "execution_count": 48
    },
    {
     "output_type": "stream",
     "name": "stdout",
     "text": [
      "Splitting in 2 equal parts(VSplit) ->\n"
     ]
    },
    {
     "output_type": "execute_result",
     "data": {
      "text/plain": [
       "[array([[1, 2, 3],\n",
       "        [4, 5, 6]]),\n",
       " array([[ 7,  8,  9],\n",
       "        [10, 11, 12]])]"
      ]
     },
     "metadata": {},
     "execution_count": 48
    }
   ],
   "source": [
    "print(\"Original 1-D array ->\",a3)\n",
    "print(\"Splitting in 6 equal parts ->\",np.split(a3,6))\n",
    "print(\"Splitting in at indices 5 & 8 ->\",np.split(a3,[5,8]))\n",
    "\n",
    "print(\"\\nOriginal 2-D array ->\\n\",a4)\n",
    "print(\"Splitting in 4 equal parts(Row-wise) ->\")\n",
    "np.split(a4,4)\n",
    "print(\"Splitting in at indices 1,3(Row-wise) ->\")\n",
    "np.split(a4,[1,3])\n",
    "print(\"Splitting in 3 equal parts(Column-wise) ->\")\n",
    "np.split(a4,3,axis=1) \n",
    "print(\"Splitting in 2 equal parts(VSplit) ->\")\n",
    "np.vsplit(a4,2)"
   ]
  }
 ]
}