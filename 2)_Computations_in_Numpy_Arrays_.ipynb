{
 "metadata": {
  "language_info": {
   "codemirror_mode": {
    "name": "ipython",
    "version": 3
   },
   "file_extension": ".py",
   "mimetype": "text/x-python",
   "name": "python",
   "nbconvert_exporter": "python",
   "pygments_lexer": "ipython3",
   "version": "3.9.1-final"
  },
  "orig_nbformat": 2,
  "kernelspec": {
   "name": "python391jvsc74a57bd02f1488f4eab00b0bf9e12652819d6658f3a8bed9826260f08c9671364aa1e828",
   "display_name": "Python 3.9.1 64-bit"
  },
  "metadata": {
   "interpreter": {
    "hash": "2f1488f4eab00b0bf9e12652819d6658f3a8bed9826260f08c9671364aa1e828"
   }
  }
 },
 "nbformat": 4,
 "nbformat_minor": 2,
 "cells": [
  {
   "source": [
    "# Need for dedicated computational techniques in Numpy\n",
    "\n",
    "Python’s default implementation (known as CPython) does some operations very\n",
    "slowly. This is in part due to the dynamic, interpreted nature of the language: the fact\n",
    "that types are flexible, so that sequences of operations cannot be compiled down to\n",
    "efficient machine code as in languages like C and Fortran.\n",
    "\n",
    "The relative sluggishness of Python generally manifests itself in situations where\n",
    "many small operations are being repeated. To eliminate or overcome this slowness, Ufuncs were introduced."
   ],
   "cell_type": "markdown",
   "metadata": {}
  },
  {
   "source": [
    "## UFuncs\n",
    "*Universal Functions* or *UFuncs* are array computation implementation in NumPy for various kinds of operations.NumPy provides a convenient interface into just this\n",
    "kind of statically typed, compiled routine. This is known as a *vectorized* operation.\n",
    "You can accomplish this by simply performing an operation on the array, which will\n",
    "then be applied to each element. This vectorized approach is designed to push the\n",
    "loop into the compiled layer that underlies NumPy, leading to much faster execution.\n"
   ],
   "cell_type": "markdown",
   "metadata": {}
  },
  {
   "cell_type": "code",
   "execution_count": 39,
   "metadata": {},
   "outputs": [
    {
     "output_type": "execute_result",
     "data": {
      "text/plain": [
       "'1.19.5'"
      ]
     },
     "metadata": {},
     "execution_count": 39
    }
   ],
   "source": [
    "import numpy as np\n",
    "np.__version__\n",
    "\n",
    "from IPython.core.interactiveshell import InteractiveShell\n",
    "InteractiveShell.ast_node_interactivity = \"all\"\n",
    "np.random.seed(0)"
   ]
  },
  {
   "cell_type": "code",
   "execution_count": 40,
   "metadata": {
    "tags": []
   },
   "outputs": [
    {
     "output_type": "stream",
     "name": "stdout",
     "text": [
      "2.07 s ± 87.3 ms per loop (mean ± std. dev. of 7 runs, 1 loop each)\n"
     ]
    }
   ],
   "source": [
    "%%timeit\n",
    "a1=np.empty(1000000)\n",
    "b1=np.random.randint(1,100,1000000)\n",
    "for i in range(1000000):\n",
    "    a1[i]=1.0/b1[i]"
   ]
  },
  {
   "cell_type": "code",
   "execution_count": 41,
   "metadata": {},
   "outputs": [
    {
     "output_type": "stream",
     "name": "stdout",
     "text": [
      "11.3 ms ± 111 µs per loop (mean ± std. dev. of 7 runs, 100 loops each)\n"
     ]
    }
   ],
   "source": [
    "%timeit 1.0/np.random.randint(1,100,1000000)"
   ]
  },
  {
   "source": [
    "*<u>Its  clearly obvious from the above 2 pieces of code that the tradition loops are quite slower when working with a large amount of data.</u>*"
   ],
   "cell_type": "markdown",
   "metadata": {}
  },
  {
   "source": [
    "### Aritmetic operations\n",
    "Although dedicated methods exist for all basic aritematic operations, but this can be directly performed on a numpy array using unary or binary ufuncs and it is applied to each element of the array.\n",
    "\n",
    "<style type=\"text/css\">\n",
    ".tg  {border-collapse:collapse;border-spacing:0;}\n",
    ".tg td{border-color:black;border-style:solid;border-width:1px;font-family:Arial, sans-serif;font-size:14px;\n",
    "  overflow:hidden;padding:10px 5px;word-break:normal;}\n",
    ".tg th{border-color:black;border-style:solid;border-width:1px;font-family:Arial, sans-serif;font-size:14px;\n",
    "  font-weight:normal;overflow:hidden;padding:10px 5px;word-break:normal;}\n",
    ".tg .tg-0pky{border-color:inherit;text-align:left;vertical-align:top}\n",
    "</style>\n",
    "<table class=\"tg\">\n",
    "<thead>\n",
    "  <tr>\n",
    "    <th class=\"tg-0pky\">Operator</th>\n",
    "    <th class=\"tg-0pky\">Equivalent ufunc</th>\n",
    "    <th class=\"tg-0pky\">Description</th>\n",
    "  </tr>\n",
    "</thead>\n",
    "<tbody>\n",
    "  <tr>\n",
    "    <td class=\"tg-0pky\">+</td>\n",
    "    <td class=\"tg-0pky\">numpy.add</td>\n",
    "    <td class=\"tg-0pky\">Addition (e.g., 1 + 1 = 2)</td>\n",
    "  </tr>\n",
    "  <tr>\n",
    "    <td class=\"tg-0pky\">-</td>\n",
    "    <td class=\"tg-0pky\">numpy.subtract</td>\n",
    "    <td class=\"tg-0pky\">Subtraction (e.g., 3 - 2 = 1)</td>\n",
    "  </tr>\n",
    "  <tr>\n",
    "    <td class=\"tg-0pky\">-</td>\n",
    "    <td class=\"tg-0pky\">numpy.negative</td>\n",
    "    <td class=\"tg-0pky\">Unary negation (e.g., -2)</td>\n",
    "  </tr>\n",
    "  <tr>\n",
    "    <td class=\"tg-0pky\">*</td>\n",
    "    <td class=\"tg-0pky\">numpy.multiply</td>\n",
    "    <td class=\"tg-0pky\">Multiplication (e.g., 2 * 3 = 6)</td>\n",
    "  </tr>\n",
    "  <tr>\n",
    "    <td class=\"tg-0pky\">/</td>\n",
    "    <td class=\"tg-0pky\">numpy.divide</td>\n",
    "    <td class=\"tg-0pky\">Division (e.g., 3 / 2 = 1.5)</td>\n",
    "  </tr>\n",
    "  <tr>\n",
    "    <td class=\"tg-0pky\">//</td>\n",
    "    <td class=\"tg-0pky\">numpy.floor_divide</td>\n",
    "    <td class=\"tg-0pky\">Floor division (e.g., 3 // 2 = 1)</td>\n",
    "  </tr>\n",
    "  <tr>\n",
    "    <td class=\"tg-0pky\">**</td>\n",
    "    <td class=\"tg-0pky\">numpy.power</td>\n",
    "    <td class=\"tg-0pky\">Exponentiation (e.g., 2 ** 3 = 8)</td>\n",
    "  </tr>\n",
    "  <tr>\n",
    "    <td class=\"tg-0pky\">%</td>\n",
    "    <td class=\"tg-0pky\">numpy.mod</td>\n",
    "    <td class=\"tg-0pky\">Modulus/remainder (e.g., 9 % 4 = 1)</td>\n",
    "  </tr>\n",
    "</tbody>\n",
    "</table>"
   ],
   "cell_type": "markdown",
   "metadata": {}
  },
  {
   "source": [
    "arr=np.arange(1,6)\n",
    "print(\" arr            = \",arr)\n",
    "print(\" arr + 1        = \",arr+1)\n",
    "print(\" arr - 1        = \",arr-1)\n",
    "print(\" arr * 5        = \",arr*5)\n",
    "print(\" arr / 2        = \",arr/2)\n",
    "print(\" arr // 3       = \",arr//3)\n",
    "print(\"-arr            = \",-arr)\n",
    "print(\" arr ** 2       = \",arr**2)\n",
    "print(\" arr % 2        = \",arr//2)\n",
    "print(\"-(2.0*arr**4)/2 = \",-(2.0*arr**4)/2)"
   ],
   "cell_type": "code",
   "metadata": {},
   "execution_count": 42,
   "outputs": [
    {
     "output_type": "stream",
     "name": "stdout",
     "text": [
      " arr            =  [1 2 3 4 5]\n arr + 1        =  [2 3 4 5 6]\n arr - 1        =  [0 1 2 3 4]\n arr * 5        =  [ 5 10 15 20 25]\n arr / 2        =  [0.5 1.  1.5 2.  2.5]\n arr // 3       =  [0 0 1 1 1]\n-arr            =  [-1 -2 -3 -4 -5]\n arr ** 2       =  [ 1  4  9 16 25]\n arr % 2        =  [0 1 1 2 2]\n-(2.0*arr**4)/2 =  [  -1.  -16.  -81. -256. -625.]\n"
     ]
    }
   ]
  },
  {
   "source": [
    "### Other Computations\n",
    "\n",
    "<style type=\"text/css\">\n",
    ".tg  {border-collapse:collapse;border-spacing:0;}\n",
    ".tg td{border-color:black;border-style:solid;border-width:1px;font-family:Arial, sans-serif;font-size:14px;\n",
    "  overflow:hidden;padding:10px 5px;word-break:normal;}\n",
    ".tg th{border-color:black;border-style:solid;border-width:1px;font-family:Arial, sans-serif;font-size:14px;\n",
    "  font-weight:normal;overflow:hidden;padding:10px 5px;word-break:normal;}\n",
    ".tg .tg-c3ow{border-color:inherit;text-align:center;vertical-align:top}\n",
    "</style>\n",
    "<table class=\"tg\">\n",
    "<thead>\n",
    "  <tr>\n",
    "    <th class=\"tg-c3ow\">Built-in Functions\\Computations</th>\n",
    "    <th class=\"tg-c3ow\">Equivalent Numpy Functions</th>\n",
    "  </tr>\n",
    "</thead>\n",
    "<tbody>\n",
    "  <tr>\n",
    "    <td class=\"tg-c3ow\">abs()</td>\n",
    "    <td class=\"tg-c3ow\">numpy.abs()<br>&nbsp;&nbsp;&nbsp;&nbsp;or <br>numpy.absolute()</td>\n",
    "  </tr>\n",
    "  <tr>\n",
    "    <td class=\"tg-c3ow\">math.sin()</td>\n",
    "    <td class=\"tg-c3ow\">numpy.sin()</td>\n",
    "  </tr>\n",
    "  <tr>\n",
    "    <td class=\"tg-c3ow\">math.cos()</td>\n",
    "    <td class=\"tg-c3ow\">numpy.cos()</td>\n",
    "  </tr>\n",
    "  <tr>\n",
    "    <td class=\"tg-c3ow\">math.tan()</td>\n",
    "    <td class=\"tg-c3ow\">numpy.tan()</td>\n",
    "  </tr>\n",
    "  <tr>\n",
    "    <td class=\"tg-c3ow\">math.asin()</td>\n",
    "    <td class=\"tg-c3ow\">numpy.arcsin()</td>\n",
    "  </tr>\n",
    "  <tr>\n",
    "    <td class=\"tg-c3ow\">math.acos()</td>\n",
    "    <td class=\"tg-c3ow\">numpy.arccos()</td>\n",
    "  </tr>\n",
    "  <tr>\n",
    "    <td class=\"tg-c3ow\">math.atan()</td>\n",
    "    <td class=\"tg-c3ow\">numpy.arctan()</td>\n",
    "  </tr>\n",
    "  <tr>\n",
    "    <td class=\"tg-c3ow\">e**x</td>\n",
    "    <td class=\"tg-c3ow\">numpy.exp(x)</td>\n",
    "  </tr>\n",
    "  <tr>\n",
    "    <td class=\"tg-c3ow\">2**x</td>\n",
    "    <td class=\"tg-c3ow\">numpy.exp2(x)</td>\n",
    "  </tr>\n",
    "  <tr>\n",
    "    <td class=\"tg-c3ow\">math.log()</td>\n",
    "    <td class=\"tg-c3ow\">numpy.ln()</td>\n",
    "  </tr>\n",
    "  <tr>\n",
    "    <td class=\"tg-c3ow\">math.log2()</td>\n",
    "    <td class=\"tg-c3ow\">numpy.log2()</td>\n",
    "  </tr>\n",
    "  <tr>\n",
    "    <td class=\"tg-c3ow\">math.log10()</td>\n",
    "    <td class=\"tg-c3ow\">numpy.log10()</td>\n",
    "  </tr>\n",
    "</tbody>\n",
    "</table>"
   ],
   "cell_type": "markdown",
   "metadata": {}
  },
  {
   "source": [
    "For large calculations, it is sometimes useful to be able to specify the array where the\n",
    "result of the calculation will be stored. Rather than creating a temporary array, you\n",
    "can use this to write computation results directly to the memory location where you’d like them to be. You can do this by using the optional <u>*out*</u> argument of any UFunc.\n",
    "\n",
    "Consider the following code:\n"
   ],
   "cell_type": "markdown",
   "metadata": {}
  },
  {
   "cell_type": "code",
   "execution_count": 43,
   "metadata": {},
   "outputs": [
    {
     "output_type": "execute_result",
     "data": {
      "text/plain": [
       "array([ 1.,  2.,  4.,  8., 16.])"
      ]
     },
     "metadata": {},
     "execution_count": 43
    },
    {
     "output_type": "stream",
     "name": "stdout",
     "text": [
      "[ 1.  0.  2.  0.  4.  0.  8.  0. 16.  0.]\n"
     ]
    }
   ],
   "source": [
    "x = np.arange(5)\n",
    "y = np.zeros(10) \n",
    "np.power(2, x, out=y[::2])\n",
    "print(y)"
   ]
  },
  {
   "source": [
    "*If we had instead written `y[::2] = 2 ** x`, this would have resulted in the creation\n",
    "of a temporary array to hold the results of 2 ** x, followed by a second operation\n",
    "copying those values into the y array. This doesn’t make much of a difference for such\n",
    "a small computation, but for very large arrays the memory savings from careful use of\n",
    "the out argument can be significant.*"
   ],
   "cell_type": "markdown",
   "metadata": {}
  },
  {
   "source": [
    "## Aggregates and their UFunc alternatives\n",
    "\n",
    "Aggregates are special methods in Numpy which can be used to reduce an array and compute simple mathematical insights out of an array.\n",
    "\n",
    "### UFunc Aggregates\n",
    "\n",
    "- <u>`.reduce()`</u>: This aggregate will apply the binary ufunc between the elements of the array chronologically.<br>\n",
    "    e.g. `numpy.add.reduce(numpy.arange(1,6))` will yield 15\n",
    "- <u>`.accumulate()`</u>: This aggregate will return an array with the result of every chronological operation done on an array using a ufunc with the `.reduce()` aggregate.<br>\n",
    "    e.g. `numpy.add.accumulate(numpy.arange(1,6))` will yield `[ 1,  3,  6, 10, 15]`\n",
    "- <u>`.outer()`</u>: This aggregate can compute the output of ufunc applied on all pairs of two different inputs.<br>\n",
    "    e.g. <br>\n",
    "    `x=np.arange(1,6)`<br>\n",
    "    `numpy.multiply.outer(x,x)`\n",
    "<br><br>\n",
    "    The above will yield the following:\n",
    "    <br><br>\n",
    "\n",
    "<pre>array([[ 1, 2, 3, 4, 5],\n",
    "       [ 2, 4, 6, 8, 10],\n",
    "       [ 3, 6, 9, 12, 15],\n",
    "       [ 4, 8, 12, 16, 20],\n",
    "       [ 5, 10,15, 20, 25]])</pre>\n",
    "\n",
    "    \n",
    "\n"
   ],
   "cell_type": "markdown",
   "metadata": {}
  },
  {
   "cell_type": "code",
   "execution_count": 44,
   "metadata": {},
   "outputs": [
    {
     "output_type": "execute_result",
     "data": {
      "text/plain": [
       "3628800"
      ]
     },
     "metadata": {},
     "execution_count": 44
    }
   ],
   "source": [
    "# Factorial of 10 can be computed as below:\n",
    "\n",
    "np.multiply.reduce(np.arange(2,11))"
   ]
  },
  {
   "cell_type": "code",
   "execution_count": 45,
   "metadata": {},
   "outputs": [
    {
     "output_type": "execute_result",
     "data": {
      "text/plain": [
       "array([      1,       2,       6,      24,     120,     720,    5040,\n",
       "         40320,  362880, 3628800], dtype=int32)"
      ]
     },
     "metadata": {},
     "execution_count": 45
    }
   ],
   "source": [
    "# Factorial of till 10 can be computed as below:\n",
    "\n",
    "np.multiply.accumulate(np.arange(1,11))"
   ]
  },
  {
   "cell_type": "code",
   "execution_count": 46,
   "metadata": {},
   "outputs": [
    {
     "output_type": "execute_result",
     "data": {
      "text/plain": [
       "array([[0, 1, 1, 1, 1],\n",
       "       [0, 0, 2, 2, 2],\n",
       "       [0, 1, 0, 3, 3],\n",
       "       [0, 0, 1, 0, 4],\n",
       "       [0, 1, 2, 1, 0]], dtype=int32)"
      ]
     },
     "metadata": {},
     "execution_count": 46
    }
   ],
   "source": [
    "x=np.arange(1,6)\n",
    "np.mod.outer(x,x)"
   ]
  },
  {
   "source": [
    "### Numpy Aggregates\n",
    "\n",
    "These work the same way as UFunc aggregates but are dedicated methods for those and many more functions. Here are some of the numpy aggregates.\n",
    "\n",
    "<style type=\"text/css\">\n",
    ".tg  {border-collapse:collapse;border-spacing:0;}\n",
    ".tg td{border-color:black;border-style:solid;border-width:1px;font-family:Arial, sans-serif;font-size:14px;\n",
    "  overflow:hidden;padding:10px 5px;word-break:normal;}\n",
    ".tg th{border-color:black;border-style:solid;border-width:1px;font-family:Arial, sans-serif;font-size:14px;\n",
    "  font-weight:normal;overflow:hidden;padding:10px 5px;word-break:normal;}\n",
    ".tg .tg-7btt{border-color:inherit;font-weight:bold;text-align:center;vertical-align:top}\n",
    ".tg .tg-0pky{border-color:inherit;text-align:left;vertical-align:top}\n",
    "</style>\n",
    "<table class=\"tg\">\n",
    "<thead>\n",
    "  <tr>\n",
    "    <th class=\"tg-7btt\">Function Name</th>\n",
    "    <th class=\"tg-7btt\">Nan-safe Version</th>\n",
    "    <th class=\"tg-7btt\">Description</th>\n",
    "  </tr>\n",
    "</thead>\n",
    "<tbody>\n",
    "  <tr>\n",
    "    <td class=\"tg-0pky\">numpy.sum</td>\n",
    "    <td class=\"tg-0pky\">numpy.nansum</td>\n",
    "    <td class=\"tg-0pky\">Compute sum of elements</td>\n",
    "  </tr>\n",
    "  <tr>\n",
    "    <td class=\"tg-0pky\">numpy.prod</td>\n",
    "    <td class=\"tg-0pky\">numpy.nanprod</td>\n",
    "    <td class=\"tg-0pky\">Compute product of elements</td>\n",
    "  </tr>\n",
    "  <tr>\n",
    "    <td class=\"tg-0pky\">numpy.mean</td>\n",
    "    <td class=\"tg-0pky\">numpy.nanmean</td>\n",
    "    <td class=\"tg-0pky\">Compute median of elements</td>\n",
    "  </tr>\n",
    "  <tr>\n",
    "    <td class=\"tg-0pky\">numpy.std</td>\n",
    "    <td class=\"tg-0pky\">numpy.nanstd</td>\n",
    "    <td class=\"tg-0pky\">Compute standard deviation</td>\n",
    "  </tr>\n",
    "  <tr>\n",
    "    <td class=\"tg-0pky\">numpy.var</td>\n",
    "    <td class=\"tg-0pky\">numpy.nanvar</td>\n",
    "    <td class=\"tg-0pky\">Compute variance</td>\n",
    "  </tr>\n",
    "  <tr>\n",
    "    <td class=\"tg-0pky\">numpy.min</td>\n",
    "    <td class=\"tg-0pky\">numpy.nanamin</td>\n",
    "    <td class=\"tg-0pky\">Find minimum value</td>\n",
    "  </tr>\n",
    "  <tr>\n",
    "    <td class=\"tg-0pky\">numpy.max</td>\n",
    "    <td class=\"tg-0pky\">numpy.nanmax</td>\n",
    "    <td class=\"tg-0pky\">Find maximum value</td>\n",
    "  </tr>\n",
    "  <tr>\n",
    "    <td class=\"tg-0pky\">numpy.argmin</td>\n",
    "    <td class=\"tg-0pky\">numpy.nanargmin</td>\n",
    "    <td class=\"tg-0pky\">Find index of minimum value</td>\n",
    "  </tr>\n",
    "  <tr>\n",
    "    <td class=\"tg-0pky\">numpy.argmax</td>\n",
    "    <td class=\"tg-0pky\">numpy.nanargmax</td>\n",
    "    <td class=\"tg-0pky\">Find index of maximum value</td>\n",
    "  </tr>\n",
    "  <tr>\n",
    "    <td class=\"tg-0pky\">numpy.median</td>\n",
    "    <td class=\"tg-0pky\">numpy.nanmedian</td>\n",
    "    <td class=\"tg-0pky\">Compute median of elements</td>\n",
    "  </tr>\n",
    "  <tr>\n",
    "    <td class=\"tg-0pky\">numpy.percentile</td>\n",
    "    <td class=\"tg-0pky\">numpy.nanpercentile</td>\n",
    "    <td class=\"tg-0pky\">Compute rank-based statistics of elements</td>\n",
    "  </tr>\n",
    "  <tr>\n",
    "    <td class=\"tg-0pky\">numpy.any</td>\n",
    "    <td class=\"tg-0pky\">N/A</td>\n",
    "    <td class=\"tg-0pky\">Evaluate whether any elements are true</td>\n",
    "  </tr>\n",
    "  <tr>\n",
    "    <td class=\"tg-0pky\">numpy.all</td>\n",
    "    <td class=\"tg-0pky\">N/A</td>\n",
    "    <td class=\"tg-0pky\">Evaluate whether all elements are true</td>\n",
    "  </tr>\n",
    "</tbody>\n",
    "</table>"
   ],
   "cell_type": "markdown",
   "metadata": {}
  },
  {
   "cell_type": "code",
   "execution_count": 47,
   "metadata": {},
   "outputs": [
    {
     "output_type": "stream",
     "name": "stdout",
     "text": [
      "Array -> [24087 63426 65628 95571  4979 58139  6362 31561 93853 74612]\nMaximum integer -> 95571\nMinimum integer -> 4979\nStandard Deviation of the array -> 31631.85672324658\nMean of the array -> 51821.8\nMedian of the array -> 60782.5\n"
     ]
    }
   ],
   "source": [
    "x=np.random.randint(1,100000,10)\n",
    "print(\"Array ->\",x)\n",
    "print(\"Maximum integer ->\",np.max(x))\n",
    "print(\"Minimum integer ->\",np.min(x))\n",
    "print(\"Standard Deviation of the array ->\",np.std(x))\n",
    "print(\"Mean of the array ->\",np.mean(x))\n",
    "print(\"Median of the array ->\",np.median(x))"
   ]
  },
  {
   "source": [
    "## Broadcasting\n",
    "Broadcasting is simply a\n",
    "set of rules for applying binary ufuncs (addition, subtraction, multiplication, etc.) on\n",
    "arrays of different sizes."
   ],
   "cell_type": "markdown",
   "metadata": {}
  },
  {
   "cell_type": "code",
   "execution_count": 48,
   "metadata": {},
   "outputs": [
    {
     "output_type": "execute_result",
     "data": {
      "text/plain": [
       "array([5, 6, 7])"
      ]
     },
     "metadata": {},
     "execution_count": 48
    }
   ],
   "source": [
    "# Element by element operation\n",
    "\n",
    "np.arange(3)+5 "
   ]
  },
  {
   "source": [
    "Think of the `[0, 1, 2] + 5` operation as: \n",
    "<pre>\n",
    "[0, 1, 2]\n",
    "    +       =  [5, 6, 7]\n",
    "[5, 5, 5]\n",
    "</pre>\n",
    "\n",
    "*Note: Remember this as a mental model for broadcasting , even though nothing of such kind happens in Numpy*"
   ],
   "cell_type": "markdown",
   "metadata": {}
  },
  {
   "source": [
    "### Rules of Broadcasting\n",
    "\n",
    "- Rule 1: If the two arrays differ in their number of dimensions, the shape of the\n",
    "one with fewer dimensions is padded with ones on its leading (left) side.\n",
    "- Rule 2: If the shape of the two arrays does not match in any dimension, the array\n",
    "with shape equal to 1 in that dimension is stretched to match the other shape.\n",
    "- Rule 3: If in any dimension the sizes disagree and neither is equal to 1, an error is\n",
    "raised.\n",
    "<p align=\"center\">\n",
    "<img src=\"Assets/broadcasting.jpg\",align=\"center\">\n",
    "</p>\n",
    "\n",
    "<u>Examples:</u><br>\n",
    "\n",
    "- *Example 1:* <br>\n",
    "**array1.shape -> (2,3)**<br>\n",
    "**array2.shape -> (3,)**\n",
    "<br>\n",
    "So, according to rule 1, we add 1 to the left of array2.shape\n",
    "<br>\n",
    "**array1.shape -> (2,3)**<br>\n",
    "**array2.shape -> (1,3)**\n",
    "<br>\n",
    "Now, according to rule 2, we  match the shape of any dimension that is 1.\n",
    "<br>\n",
    "**array1.shape -> (2,3)**<br>\n",
    "**array2.shape -> (2,3)**\n",
    "<br>\n",
    "\n",
    "Thus the resultant array will be of shape (2,3)\n",
    "\n",
    "- *Example 2:* <br>\n",
    "**array1.shape -> (3,1)**<br>\n",
    "**array2.shape -> (3,)**\n",
    "<br>\n",
    "So, according to rule 1, we add 1 to the left of array2.shape\n",
    "<br>\n",
    "**array1.shape -> (3,1)**<br>\n",
    "**array2.shape -> (1,3)**\n",
    "<br>\n",
    "Now, according to rule 2, we  match the shape of any dimension that is 1, in this case , in both arrays.\n",
    "<br>\n",
    "**array1.shape -> (3,3)**<br>\n",
    "**array2.shape -> (3,3)**\n",
    "<br>\n",
    "\n",
    "Thus the resultant array will be of shape (3,3)\n",
    "\n",
    "- *Example 3:* <br>\n",
    "**array1.shape -> (3,2)**<br>\n",
    "**array2.shape -> (3,)**\n",
    "<br>\n",
    "So, according to rule 1, we add 1 to the left of array2.shape\n",
    "<br>\n",
    "**array1.shape -> (3,2)**<br>\n",
    "**array2.shape -> (1,3)**\n",
    "<br>\n",
    "Now, according to rule 2, we  match the shape of any dimension that is 1, in this case , in both arrays.\n",
    "<br>\n",
    "**array1.shape -> (3,2)**<br>\n",
    "**array2.shape -> (3,3)**\n",
    "<br>\n",
    "\n",
    "<br>\n",
    "Now, according to rule 3, The 2nd dimension in array1.shape disagrees with the corresponding dimension in array2.shape, therefor this will throw an error and array1 cannot be broadcasted."
   ],
   "cell_type": "markdown",
   "metadata": {}
  },
  {
   "cell_type": "code",
   "execution_count": 56,
   "metadata": {},
   "outputs": [
    {
     "output_type": "execute_result",
     "data": {
      "text/plain": [
       "array([[1., 2., 3.],\n",
       "       [1., 2., 3.]])"
      ]
     },
     "metadata": {},
     "execution_count": 56
    }
   ],
   "source": [
    "# Example 1\n",
    "# Broadcasting an array with higher dimension, e.g. 2-D array + 1-D array\n",
    "\n",
    "np.ones((2,3))+np.arange(3)"
   ]
  },
  {
   "cell_type": "code",
   "execution_count": 50,
   "metadata": {},
   "outputs": [
    {
     "output_type": "execute_result",
     "data": {
      "text/plain": [
       "array([[0, 1, 2],\n",
       "       [1, 2, 3],\n",
       "       [2, 3, 4]])"
      ]
     },
     "metadata": {},
     "execution_count": 50
    }
   ],
   "source": [
    "# Example 2\n",
    "# Broadcasting in cases when both arrays need broadcasting\n",
    "\n",
    "np.arange(3)[:,np.newaxis]+np.arange(3)"
   ]
  },
  {
   "cell_type": "code",
   "execution_count": 55,
   "metadata": {},
   "outputs": [
    {
     "output_type": "error",
     "ename": "ValueError",
     "evalue": "operands could not be broadcast together with shapes (3,2) (3,) ",
     "traceback": [
      "\u001b[1;31m---------------------------------------------------------------------------\u001b[0m",
      "\u001b[1;31mValueError\u001b[0m                                Traceback (most recent call last)",
      "\u001b[1;32m<ipython-input-55-12dcc469d70c>\u001b[0m in \u001b[0;36m<module>\u001b[1;34m\u001b[0m\n\u001b[0;32m      1\u001b[0m \u001b[1;31m# Broadcasting with unbroadcastable dimensions\u001b[0m\u001b[1;33m\u001b[0m\u001b[1;33m\u001b[0m\u001b[1;33m\u001b[0m\u001b[0m\n\u001b[0;32m      2\u001b[0m \u001b[1;33m\u001b[0m\u001b[0m\n\u001b[1;32m----> 3\u001b[1;33m \u001b[0mnp\u001b[0m\u001b[1;33m.\u001b[0m\u001b[0mones\u001b[0m\u001b[1;33m(\u001b[0m\u001b[1;33m(\u001b[0m\u001b[1;36m3\u001b[0m\u001b[1;33m,\u001b[0m\u001b[1;36m2\u001b[0m\u001b[1;33m)\u001b[0m\u001b[1;33m)\u001b[0m\u001b[1;33m+\u001b[0m\u001b[0mnp\u001b[0m\u001b[1;33m.\u001b[0m\u001b[0marange\u001b[0m\u001b[1;33m(\u001b[0m\u001b[1;36m3\u001b[0m\u001b[1;33m)\u001b[0m\u001b[1;33m\u001b[0m\u001b[1;33m\u001b[0m\u001b[0m\n\u001b[0m",
      "\u001b[1;31mValueError\u001b[0m: operands could not be broadcast together with shapes (3,2) (3,) "
     ]
    }
   ],
   "source": [
    "# Example 3\n",
    "# Broadcasting with incompatible dimensions\n",
    "\n",
    "np.ones((3,2))+np.arange(3)"
   ]
  },
  {
   "cell_type": "code",
   "execution_count": null,
   "metadata": {},
   "outputs": [],
   "source": []
  }
 ]
}