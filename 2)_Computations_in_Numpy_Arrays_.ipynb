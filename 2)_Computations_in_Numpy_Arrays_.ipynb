{
 "metadata": {
  "language_info": {
   "codemirror_mode": {
    "name": "ipython",
    "version": 3
   },
   "file_extension": ".py",
   "mimetype": "text/x-python",
   "name": "python",
   "nbconvert_exporter": "python",
   "pygments_lexer": "ipython3",
   "version": "3.9.1-final"
  },
  "orig_nbformat": 2,
  "kernelspec": {
   "name": "python391jvsc74a57bd02f1488f4eab00b0bf9e12652819d6658f3a8bed9826260f08c9671364aa1e828",
   "display_name": "Python 3.9.1 64-bit"
  },
  "metadata": {
   "interpreter": {
    "hash": "2f1488f4eab00b0bf9e12652819d6658f3a8bed9826260f08c9671364aa1e828"
   }
  }
 },
 "nbformat": 4,
 "nbformat_minor": 2,
 "cells": [
  {
   "source": [
    "# Need for dedicated computational techniques in Numpy\n",
    "\n",
    "Python’s default implementation (known as CPython) does some operations very\n",
    "slowly. This is in part due to the dynamic, interpreted nature of the language: the fact\n",
    "that types are flexible, so that sequences of operations cannot be compiled down to\n",
    "efficient machine code as in languages like C and Fortran.\n",
    "\n",
    "The relative sluggishness of Python generally manifests itself in situations where\n",
    "many small operations are being repeated. To eliminate or overcome this slowness, Ufuncs were introduced."
   ],
   "cell_type": "markdown",
   "metadata": {}
  },
  {
   "source": [
    "## UFuncs\n",
    "*Universal Functions* or *UFuncs* are array computation implementation in NumPy for various kinds of operations.NumPy provides a convenient interface into just this\n",
    "kind of statically typed, compiled routine. This is known as a *vectorized* operation.\n",
    "You can accomplish this by simply performing an operation on the array, which will\n",
    "then be applied to each element. This vectorized approach is designed to push the\n",
    "loop into the compiled layer that underlies NumPy, leading to much faster execution.\n"
   ],
   "cell_type": "markdown",
   "metadata": {}
  },
  {
   "cell_type": "code",
   "execution_count": 28,
   "metadata": {},
   "outputs": [
    {
     "output_type": "execute_result",
     "data": {
      "text/plain": [
       "'1.19.5'"
      ]
     },
     "metadata": {},
     "execution_count": 28
    }
   ],
   "source": [
    "import numpy as np\n",
    "np.__version__\n",
    "\n",
    "from IPython.core.interactiveshell import InteractiveShell\n",
    "InteractiveShell.ast_node_interactivity = \"all\"\n",
    "np.random.seed(0)"
   ]
  },
  {
   "cell_type": "code",
   "execution_count": 29,
   "metadata": {
    "tags": []
   },
   "outputs": [
    {
     "output_type": "stream",
     "name": "stdout",
     "text": [
      "1.9 s ± 29.4 ms per loop (mean ± std. dev. of 7 runs, 1 loop each)\n"
     ]
    }
   ],
   "source": [
    "%%timeit\n",
    "a1=np.empty(1000000)\n",
    "b1=np.random.randint(1,100,1000000)\n",
    "for i in range(1000000):\n",
    "    a1[i]=1.0/b1[i]"
   ]
  },
  {
   "cell_type": "code",
   "execution_count": 33,
   "metadata": {},
   "outputs": [
    {
     "output_type": "stream",
     "name": "stdout",
     "text": [
      "12.5 ms ± 384 µs per loop (mean ± std. dev. of 7 runs, 100 loops each)\n"
     ]
    }
   ],
   "source": [
    "%timeit 1.0/np.random.randint(1,100,1000000)"
   ]
  },
  {
   "source": [
    "*<u>Its  clearly obvious from the above 2 pieces of code that the tradition loops are quite slower when working with a large amount of data.</u>*"
   ],
   "cell_type": "markdown",
   "metadata": {}
  },
  {
   "source": [
    "### Aritmetic operations\n",
    "Although dedicated methods exist for all basic aritematic operations, but this can be directly performed on a numpy array using unary or binary ufuncs and it is applied to each element of the array.\n",
    "\n",
    "<style type=\"text/css\">\n",
    ".tg  {border-collapse:collapse;border-spacing:0;}\n",
    ".tg td{border-color:black;border-style:solid;border-width:1px;font-family:Arial, sans-serif;font-size:14px;\n",
    "  overflow:hidden;padding:10px 5px;word-break:normal;}\n",
    ".tg th{border-color:black;border-style:solid;border-width:1px;font-family:Arial, sans-serif;font-size:14px;\n",
    "  font-weight:normal;overflow:hidden;padding:10px 5px;word-break:normal;}\n",
    ".tg .tg-0pky{border-color:inherit;text-align:left;vertical-align:top}\n",
    "</style>\n",
    "<table class=\"tg\">\n",
    "<thead>\n",
    "  <tr>\n",
    "    <th class=\"tg-0pky\">Operator</th>\n",
    "    <th class=\"tg-0pky\">Equivalent ufunc</th>\n",
    "    <th class=\"tg-0pky\">Description</th>\n",
    "  </tr>\n",
    "</thead>\n",
    "<tbody>\n",
    "  <tr>\n",
    "    <td class=\"tg-0pky\">+</td>\n",
    "    <td class=\"tg-0pky\">numpy.add</td>\n",
    "    <td class=\"tg-0pky\">Addition (e.g., 1 + 1 = 2)</td>\n",
    "  </tr>\n",
    "  <tr>\n",
    "    <td class=\"tg-0pky\">-</td>\n",
    "    <td class=\"tg-0pky\">numpy.subtract</td>\n",
    "    <td class=\"tg-0pky\">Subtraction (e.g., 3 - 2 = 1)</td>\n",
    "  </tr>\n",
    "  <tr>\n",
    "    <td class=\"tg-0pky\">-</td>\n",
    "    <td class=\"tg-0pky\">numpy.negative</td>\n",
    "    <td class=\"tg-0pky\">Unary negation (e.g., -2)</td>\n",
    "  </tr>\n",
    "  <tr>\n",
    "    <td class=\"tg-0pky\">*</td>\n",
    "    <td class=\"tg-0pky\">numpy.multiply</td>\n",
    "    <td class=\"tg-0pky\">Multiplication (e.g., 2 * 3 = 6)</td>\n",
    "  </tr>\n",
    "  <tr>\n",
    "    <td class=\"tg-0pky\">/</td>\n",
    "    <td class=\"tg-0pky\">numpy.divide</td>\n",
    "    <td class=\"tg-0pky\">Division (e.g., 3 / 2 = 1.5)</td>\n",
    "  </tr>\n",
    "  <tr>\n",
    "    <td class=\"tg-0pky\">//</td>\n",
    "    <td class=\"tg-0pky\">numpy.floor_divide</td>\n",
    "    <td class=\"tg-0pky\">Floor division (e.g., 3 // 2 = 1)</td>\n",
    "  </tr>\n",
    "  <tr>\n",
    "    <td class=\"tg-0pky\">**</td>\n",
    "    <td class=\"tg-0pky\">numpy.power</td>\n",
    "    <td class=\"tg-0pky\">Exponentiation (e.g., 2 ** 3 = 8)</td>\n",
    "  </tr>\n",
    "  <tr>\n",
    "    <td class=\"tg-0pky\">%</td>\n",
    "    <td class=\"tg-0pky\">numpy.mod</td>\n",
    "    <td class=\"tg-0pky\">Modulus/remainder (e.g., 9 % 4 = 1)</td>\n",
    "  </tr>\n",
    "</tbody>\n",
    "</table>"
   ],
   "cell_type": "markdown",
   "metadata": {}
  },
  {
   "source": [
    "arr=np.arange(1,6)\n",
    "print(\" arr            = \",arr)\n",
    "print(\" arr + 1        = \",arr+1)\n",
    "print(\" arr - 1        = \",arr-1)\n",
    "print(\" arr * 5        = \",arr*5)\n",
    "print(\" arr / 2        = \",arr/2)\n",
    "print(\" arr // 3       = \",arr//3)\n",
    "print(\"-arr            = \",-arr)\n",
    "print(\" arr ** 2       = \",arr**2)\n",
    "print(\" arr % 2        = \",arr//2)\n",
    "print(\"-(2.0*arr**4)/2 = \",-(2.0*arr**4)/2)"
   ],
   "cell_type": "code",
   "metadata": {},
   "execution_count": 48,
   "outputs": [
    {
     "output_type": "stream",
     "name": "stdout",
     "text": [
      " arr            =  [1 2 3 4 5]\n arr + 1        =  [2 3 4 5 6]\n arr - 1        =  [0 1 2 3 4]\n arr * 5        =  [ 5 10 15 20 25]\n arr / 2        =  [0.5 1.  1.5 2.  2.5]\n arr // 3       =  [0 0 1 1 1]\n-arr            =  [-1 -2 -3 -4 -5]\n arr ** 2       =  [ 1  4  9 16 25]\n arr % 2        =  [0 1 1 2 2]\n-(2.0*arr**4)/2 =  [  -1.  -16.  -81. -256. -625.]\n"
     ]
    }
   ]
  },
  {
   "source": [
    "### Other Computations\n",
    "\n",
    "<style type=\"text/css\">\n",
    ".tg  {border-collapse:collapse;border-spacing:0;}\n",
    ".tg td{border-color:black;border-style:solid;border-width:1px;font-family:Arial, sans-serif;font-size:14px;\n",
    "  overflow:hidden;padding:10px 5px;word-break:normal;}\n",
    ".tg th{border-color:black;border-style:solid;border-width:1px;font-family:Arial, sans-serif;font-size:14px;\n",
    "  font-weight:normal;overflow:hidden;padding:10px 5px;word-break:normal;}\n",
    ".tg .tg-c3ow{border-color:inherit;text-align:center;vertical-align:top}\n",
    "</style>\n",
    "<table class=\"tg\">\n",
    "<thead>\n",
    "  <tr>\n",
    "    <th class=\"tg-c3ow\">Built-in Functions\\Computations</th>\n",
    "    <th class=\"tg-c3ow\">Equivalent Numpy Functions</th>\n",
    "  </tr>\n",
    "</thead>\n",
    "<tbody>\n",
    "  <tr>\n",
    "    <td class=\"tg-c3ow\">abs()</td>\n",
    "    <td class=\"tg-c3ow\">numpy.abs()<br>&nbsp;&nbsp;&nbsp;&nbsp;or <br>numpy.absolute()</td>\n",
    "  </tr>\n",
    "  <tr>\n",
    "    <td class=\"tg-c3ow\">math.sin()</td>\n",
    "    <td class=\"tg-c3ow\">numpy.sin()</td>\n",
    "  </tr>\n",
    "  <tr>\n",
    "    <td class=\"tg-c3ow\">math.cos()</td>\n",
    "    <td class=\"tg-c3ow\">numpy.cos()</td>\n",
    "  </tr>\n",
    "  <tr>\n",
    "    <td class=\"tg-c3ow\">math.tan()</td>\n",
    "    <td class=\"tg-c3ow\">numpy.tan()</td>\n",
    "  </tr>\n",
    "  <tr>\n",
    "    <td class=\"tg-c3ow\">math.asin()</td>\n",
    "    <td class=\"tg-c3ow\">numpy.arcsin()</td>\n",
    "  </tr>\n",
    "  <tr>\n",
    "    <td class=\"tg-c3ow\">math.acos()</td>\n",
    "    <td class=\"tg-c3ow\">numpy.arccos()</td>\n",
    "  </tr>\n",
    "  <tr>\n",
    "    <td class=\"tg-c3ow\">math.atan()</td>\n",
    "    <td class=\"tg-c3ow\">numpy.arctan()</td>\n",
    "  </tr>\n",
    "  <tr>\n",
    "    <td class=\"tg-c3ow\">e**x</td>\n",
    "    <td class=\"tg-c3ow\">numpy.exp(x)</td>\n",
    "  </tr>\n",
    "  <tr>\n",
    "    <td class=\"tg-c3ow\">2**x</td>\n",
    "    <td class=\"tg-c3ow\">numpy.exp2(x)</td>\n",
    "  </tr>\n",
    "  <tr>\n",
    "    <td class=\"tg-c3ow\">math.log()</td>\n",
    "    <td class=\"tg-c3ow\">numpy.ln()</td>\n",
    "  </tr>\n",
    "  <tr>\n",
    "    <td class=\"tg-c3ow\">math.log2()</td>\n",
    "    <td class=\"tg-c3ow\">numpy.log2()</td>\n",
    "  </tr>\n",
    "  <tr>\n",
    "    <td class=\"tg-c3ow\">math.log10()</td>\n",
    "    <td class=\"tg-c3ow\">numpy.log10()</td>\n",
    "  </tr>\n",
    "</tbody>\n",
    "</table>"
   ],
   "cell_type": "markdown",
   "metadata": {}
  },
  {
   "cell_type": "code",
   "execution_count": null,
   "metadata": {},
   "outputs": [],
   "source": []
  }
 ]
}